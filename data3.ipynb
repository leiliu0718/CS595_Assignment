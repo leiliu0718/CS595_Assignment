{
 "cells": [
  {
   "cell_type": "markdown",
   "metadata": {},
   "source": [
    "the dataset is the Titanic dataset from kaggle.\n",
    "The kaggle did not provide the ground-truth: real label for the test set, not it did not hurt this analysis, since the  it did not involve accuracy. \n",
    "First, binarize the categorical features for feature 'Pclass' and fill some missing value with mean value for corresponding columns."
   ]
  },
  {
   "cell_type": "code",
   "execution_count": 45,
   "metadata": {
    "collapsed": true
   },
   "outputs": [],
   "source": [
    "import numpy as np\n",
    "import pandas as pd\n",
    "from sklearn.linear_model import LogisticRegression\n",
    "from sklearn.model_selection import train_test_split\n",
    "from sklearn import tree as tree\n",
    "from IPython.display import SVG\n",
    "from graphviz import Source\n",
    "from sklearn.preprocessing import StandardScaler\n",
    "import pickle\n",
    "import operator"
   ]
  },
  {
   "cell_type": "code",
   "execution_count": 46,
   "metadata": {
    "collapsed": true
   },
   "outputs": [],
   "source": [
    "df = pd.read_csv('train.csv')\n",
    "df = pd.get_dummies(df, prefix= ['Pclass'],columns=['Pclass'])\n",
    "df = df.replace(['male','female'],[1,0])\n",
    "df = df.fillna(df.mean())\n",
    "feat_lst = ['Sex','Age','SibSp','Parch','Pclass_1','Pclass_2','Pclass_3']"
   ]
  },
  {
   "cell_type": "code",
   "execution_count": 47,
   "metadata": {
    "collapsed": false
   },
   "outputs": [
    {
     "name": "stdout",
     "output_type": "stream",
     "text": [
      "   Sex   Age  SibSp  Parch  Pclass_1  Pclass_2  Pclass_3\n",
      "0    1  22.0      1      0         0         0         1\n",
      "1    0  38.0      1      0         1         0         0\n",
      "2    0  26.0      0      0         0         0         1\n",
      "3    0  35.0      1      0         1         0         0\n",
      "4    1  35.0      0      0         0         0         1\n"
     ]
    },
    {
     "data": {
      "text/html": [
       "<div>\n",
       "<table border=\"1\" class=\"dataframe\">\n",
       "  <thead>\n",
       "    <tr style=\"text-align: right;\">\n",
       "      <th></th>\n",
       "      <th>Sex</th>\n",
       "      <th>Age</th>\n",
       "      <th>SibSp</th>\n",
       "      <th>Parch</th>\n",
       "      <th>Pclass_1</th>\n",
       "      <th>Pclass_2</th>\n",
       "      <th>Pclass_3</th>\n",
       "    </tr>\n",
       "  </thead>\n",
       "  <tbody>\n",
       "    <tr>\n",
       "      <th>0</th>\n",
       "      <td>1</td>\n",
       "      <td>34.5</td>\n",
       "      <td>0</td>\n",
       "      <td>0</td>\n",
       "      <td>0</td>\n",
       "      <td>0</td>\n",
       "      <td>1</td>\n",
       "    </tr>\n",
       "    <tr>\n",
       "      <th>1</th>\n",
       "      <td>0</td>\n",
       "      <td>47.0</td>\n",
       "      <td>1</td>\n",
       "      <td>0</td>\n",
       "      <td>0</td>\n",
       "      <td>0</td>\n",
       "      <td>1</td>\n",
       "    </tr>\n",
       "    <tr>\n",
       "      <th>2</th>\n",
       "      <td>1</td>\n",
       "      <td>62.0</td>\n",
       "      <td>0</td>\n",
       "      <td>0</td>\n",
       "      <td>0</td>\n",
       "      <td>1</td>\n",
       "      <td>0</td>\n",
       "    </tr>\n",
       "    <tr>\n",
       "      <th>3</th>\n",
       "      <td>1</td>\n",
       "      <td>27.0</td>\n",
       "      <td>0</td>\n",
       "      <td>0</td>\n",
       "      <td>0</td>\n",
       "      <td>0</td>\n",
       "      <td>1</td>\n",
       "    </tr>\n",
       "    <tr>\n",
       "      <th>4</th>\n",
       "      <td>0</td>\n",
       "      <td>22.0</td>\n",
       "      <td>1</td>\n",
       "      <td>1</td>\n",
       "      <td>0</td>\n",
       "      <td>0</td>\n",
       "      <td>1</td>\n",
       "    </tr>\n",
       "  </tbody>\n",
       "</table>\n",
       "</div>"
      ],
      "text/plain": [
       "   Sex   Age  SibSp  Parch  Pclass_1  Pclass_2  Pclass_3\n",
       "0    1  34.5      0      0         0         0         1\n",
       "1    0  47.0      1      0         0         0         1\n",
       "2    1  62.0      0      0         0         1         0\n",
       "3    1  27.0      0      0         0         0         1\n",
       "4    0  22.0      1      1         0         0         1"
      ]
     },
     "execution_count": 47,
     "metadata": {},
     "output_type": "execute_result"
    }
   ],
   "source": [
    "df_test = pd.read_csv('test.csv')\n",
    "df_test = pd.get_dummies(df_test, prefix= ['Pclass'],columns=['Pclass'])\n",
    "df_test = df_test.replace(['male','female'],[1,0])\n",
    "df_test = df_test.fillna(df.mean())\n",
    "X_train, y_train = df[feat_lst], df['Survived']\n",
    "X_test = df_test[feat_lst]\n",
    "print(X_train.head())\n",
    "X_test.head()"
   ]
  },
  {
   "cell_type": "code",
   "execution_count": 48,
   "metadata": {
    "collapsed": false
   },
   "outputs": [],
   "source": [
    "a = {}\n",
    "a['X_train'] = X_train\n",
    "a['y_train'] = y_train\n",
    "a['X_test'] = X_test\n",
    "a['target_names'] = ['Survived']\n",
    "a['feature_names'] = ['Sex','Age','SibSp','Parch','Pclass_1','Pclass_2','Pclass_3']\n",
    "pickle.dump(a, open(\"lliu54.pickle\", \"wb\"))"
   ]
  },
  {
   "cell_type": "markdown",
   "metadata": {},
   "source": [
    "4 important features\n",
    "(1) Train an L2-regularized LogisticRegression classifier on the train split; use the default parameters for all, except penalty should be set to l2, Print the top 10 features and their weights "
   ]
  },
  {
   "cell_type": "code",
   "execution_count": 49,
   "metadata": {
    "collapsed": false
   },
   "outputs": [
    {
     "data": {
      "text/plain": [
       "LogisticRegression(C=1.0, class_weight=None, dual=False, fit_intercept=True,\n",
       "          intercept_scaling=1, max_iter=100, multi_class='ovr', n_jobs=1,\n",
       "          penalty='l2', random_state=None, solver='liblinear', tol=0.0001,\n",
       "          verbose=0, warm_start=False)"
      ]
     },
     "execution_count": 49,
     "metadata": {},
     "output_type": "execute_result"
    }
   ],
   "source": [
    "lr_l2 =LogisticRegression(penalty='l2')\n",
    "lr_l2.fit(X_train,y_train)"
   ]
  },
  {
   "cell_type": "code",
   "execution_count": 50,
   "metadata": {
    "collapsed": true
   },
   "outputs": [],
   "source": [
    "def top_features(clf):\n",
    "    lst = []\n",
    "    feature_sorted = np.argsort(np.abs(clf.coef_[0]))[::-1]\n",
    "    for i in feature_sorted:\n",
    "        v = (feat_lst[i], round(float(clf.coef_[0][i]),3))\n",
    "        lst.append(v)\n",
    "    return lst"
   ]
  },
  {
   "cell_type": "code",
   "execution_count": 51,
   "metadata": {
    "collapsed": false
   },
   "outputs": [
    {
     "name": "stdout",
     "output_type": "stream",
     "text": [
      "top features for un-scaled data with L2 penalty:  [('Sex', -2.595), ('Pclass_1', 1.739), ('Pclass_2', 0.646), ('Pclass_3', -0.449), ('SibSp', -0.3), ('Parch', -0.055), ('Age', -0.035)]\n"
     ]
    }
   ],
   "source": [
    "print('top features for un-scaled data with L2 penalty: ',top_features(lr_l2))"
   ]
  },
  {
   "cell_type": "markdown",
   "metadata": {},
   "source": [
    "(2) Train an L1-regularized LogisticRegression classifier on the train split; use the default parameters for all, except penalty should be set to l1. Print the top 10 features and their weights"
   ]
  },
  {
   "cell_type": "code",
   "execution_count": 52,
   "metadata": {
    "collapsed": false
   },
   "outputs": [
    {
     "data": {
      "text/plain": [
       "LogisticRegression(C=1.0, class_weight=None, dual=False, fit_intercept=True,\n",
       "          intercept_scaling=1, max_iter=100, multi_class='ovr', n_jobs=1,\n",
       "          penalty='l1', random_state=None, solver='liblinear', tol=0.0001,\n",
       "          verbose=0, warm_start=False)"
      ]
     },
     "execution_count": 52,
     "metadata": {},
     "output_type": "execute_result"
    }
   ],
   "source": [
    "lr_l1 =LogisticRegression(penalty='l1')\n",
    "lr_l1.fit(X_train,y_train)"
   ]
  },
  {
   "cell_type": "code",
   "execution_count": 53,
   "metadata": {
    "collapsed": false
   },
   "outputs": [
    {
     "name": "stdout",
     "output_type": "stream",
     "text": [
      "top features for un-scaled data with L1 penalty:  [('Sex', -2.677), ('Pclass_1', 2.244), ('Pclass_2', 1.091), ('SibSp', -0.311), ('Parch', -0.059), ('Age', -0.037), ('Pclass_3', 0.0)]\n"
     ]
    }
   ],
   "source": [
    "print('top features for un-scaled data with L1 penalty: ',top_features(lr_l1))"
   ]
  },
  {
   "cell_type": "code",
   "execution_count": 54,
   "metadata": {
    "collapsed": true
   },
   "outputs": [],
   "source": [
    "def penalty_change(weight_L1,weight_L2):\n",
    "    lst1 = []\n",
    "    for i in range(len(weight_L1)):\n",
    "        u = (weight_L1[i][0],\n",
    "             round(float(weight_L1[i][1]-weight_L2[i][1]),6))\n",
    "        lst1.append(u)\n",
    "    return lst1   "
   ]
  },
  {
   "cell_type": "code",
   "execution_count": 55,
   "metadata": {
    "collapsed": false
   },
   "outputs": [
    {
     "name": "stdout",
     "output_type": "stream",
     "text": [
      "L1 VS L2 weight difference on un-scaled data: [('Sex', -0.082), ('Pclass_1', 0.505), ('Pclass_2', 0.445), ('SibSp', 0.138), ('Parch', 0.241), ('Age', 0.018), ('Pclass_3', 0.035)]\n"
     ]
    }
   ],
   "source": [
    "print('L1 VS L2 weight difference on un-scaled data:',penalty_change(top_features(lr_l1),top_features(lr_l2)))"
   ]
  },
  {
   "cell_type": "markdown",
   "metadata": {},
   "source": [
    "(3)Train a DecisionTreeClassifier  on the train split; use the default parameters for all, except max_depth=6, min_impurity_decrease=0.005. Visualize the tree."
   ]
  },
  {
   "cell_type": "code",
   "execution_count": 56,
   "metadata": {
    "collapsed": false
   },
   "outputs": [
    {
     "data": {
      "text/plain": [
       "DecisionTreeClassifier(class_weight=None, criterion='gini', max_depth=6,\n",
       "            max_features=None, max_leaf_nodes=None,\n",
       "            min_impurity_decrease=0.005, min_impurity_split=None,\n",
       "            min_samples_leaf=1, min_samples_split=2,\n",
       "            min_weight_fraction_leaf=0.0, presort=False, random_state=None,\n",
       "            splitter='best')"
      ]
     },
     "execution_count": 56,
     "metadata": {},
     "output_type": "execute_result"
    }
   ],
   "source": [
    "dt_unscaled = tree.DecisionTreeClassifier(max_depth=6, min_impurity_decrease =0.005)\n",
    "dt_unscaled.fit(X_train,y_train)"
   ]
  },
  {
   "cell_type": "code",
   "execution_count": 57,
   "metadata": {
    "collapsed": false
   },
   "outputs": [
    {
     "data": {
      "image/svg+xml": [
       "<svg height=\"477pt\" viewBox=\"0.00 0.00 764.00 477.00\" width=\"764pt\" xmlns=\"http://www.w3.org/2000/svg\" xmlns:xlink=\"http://www.w3.org/1999/xlink\">\n",
       "<g class=\"graph\" id=\"graph0\" transform=\"scale(1 1) rotate(0) translate(4 473)\">\n",
       "<title>Tree</title>\n",
       "<polygon fill=\"white\" points=\"-4,4 -4,-473 760,-473 760,4 -4,4\" stroke=\"none\"/>\n",
       "<!-- 0 -->\n",
       "<g class=\"node\" id=\"node1\"><title>0</title>\n",
       "<polygon fill=\"none\" points=\"378,-469 260,-469 260,-401 378,-401 378,-469\" stroke=\"black\"/>\n",
       "<text font-family=\"Times New Roman,serif\" font-size=\"14.00\" text-anchor=\"middle\" x=\"319\" y=\"-453.8\">Sex &lt;= 0.5</text>\n",
       "<text font-family=\"Times New Roman,serif\" font-size=\"14.00\" text-anchor=\"middle\" x=\"319\" y=\"-438.8\">gini = 0.473</text>\n",
       "<text font-family=\"Times New Roman,serif\" font-size=\"14.00\" text-anchor=\"middle\" x=\"319\" y=\"-423.8\">samples = 891</text>\n",
       "<text font-family=\"Times New Roman,serif\" font-size=\"14.00\" text-anchor=\"middle\" x=\"319\" y=\"-408.8\">value = [549, 342]</text>\n",
       "</g>\n",
       "<!-- 1 -->\n",
       "<g class=\"node\" id=\"node2\"><title>1</title>\n",
       "<polygon fill=\"none\" points=\"285.5,-365 174.5,-365 174.5,-297 285.5,-297 285.5,-365\" stroke=\"black\"/>\n",
       "<text font-family=\"Times New Roman,serif\" font-size=\"14.00\" text-anchor=\"middle\" x=\"230\" y=\"-349.8\">Pclass_3 &lt;= 0.5</text>\n",
       "<text font-family=\"Times New Roman,serif\" font-size=\"14.00\" text-anchor=\"middle\" x=\"230\" y=\"-334.8\">gini = 0.383</text>\n",
       "<text font-family=\"Times New Roman,serif\" font-size=\"14.00\" text-anchor=\"middle\" x=\"230\" y=\"-319.8\">samples = 314</text>\n",
       "<text font-family=\"Times New Roman,serif\" font-size=\"14.00\" text-anchor=\"middle\" x=\"230\" y=\"-304.8\">value = [81, 233]</text>\n",
       "</g>\n",
       "<!-- 0&#45;&gt;1 -->\n",
       "<g class=\"edge\" id=\"edge1\"><title>0-&gt;1</title>\n",
       "<path d=\"M290.104,-400.884C282.332,-391.976 273.833,-382.235 265.737,-372.957\" fill=\"none\" stroke=\"black\"/>\n",
       "<polygon fill=\"black\" points=\"268.267,-370.533 259.055,-365.299 262.993,-375.135 268.267,-370.533\" stroke=\"black\"/>\n",
       "<text font-family=\"Times New Roman,serif\" font-size=\"14.00\" text-anchor=\"middle\" x=\"257.358\" y=\"-386.542\">True</text>\n",
       "</g>\n",
       "<!-- 8 -->\n",
       "<g class=\"node\" id=\"node9\"><title>8</title>\n",
       "<polygon fill=\"none\" points=\"468,-365 350,-365 350,-297 468,-297 468,-365\" stroke=\"black\"/>\n",
       "<text font-family=\"Times New Roman,serif\" font-size=\"14.00\" text-anchor=\"middle\" x=\"409\" y=\"-349.8\">Age &lt;= 6.5</text>\n",
       "<text font-family=\"Times New Roman,serif\" font-size=\"14.00\" text-anchor=\"middle\" x=\"409\" y=\"-334.8\">gini = 0.306</text>\n",
       "<text font-family=\"Times New Roman,serif\" font-size=\"14.00\" text-anchor=\"middle\" x=\"409\" y=\"-319.8\">samples = 577</text>\n",
       "<text font-family=\"Times New Roman,serif\" font-size=\"14.00\" text-anchor=\"middle\" x=\"409\" y=\"-304.8\">value = [468, 109]</text>\n",
       "</g>\n",
       "<!-- 0&#45;&gt;8 -->\n",
       "<g class=\"edge\" id=\"edge8\"><title>0-&gt;8</title>\n",
       "<path d=\"M348.22,-400.884C356.08,-391.976 364.675,-382.235 372.862,-372.957\" fill=\"none\" stroke=\"black\"/>\n",
       "<polygon fill=\"black\" points=\"375.626,-375.113 379.618,-365.299 370.378,-370.482 375.626,-375.113\" stroke=\"black\"/>\n",
       "<text font-family=\"Times New Roman,serif\" font-size=\"14.00\" text-anchor=\"middle\" x=\"381.178\" y=\"-386.551\">False</text>\n",
       "</g>\n",
       "<!-- 2 -->\n",
       "<g class=\"node\" id=\"node3\"><title>2</title>\n",
       "<polygon fill=\"none\" points=\"160,-253.5 56,-253.5 56,-200.5 160,-200.5 160,-253.5\" stroke=\"black\"/>\n",
       "<text font-family=\"Times New Roman,serif\" font-size=\"14.00\" text-anchor=\"middle\" x=\"108\" y=\"-238.3\">gini = 0.1</text>\n",
       "<text font-family=\"Times New Roman,serif\" font-size=\"14.00\" text-anchor=\"middle\" x=\"108\" y=\"-223.3\">samples = 170</text>\n",
       "<text font-family=\"Times New Roman,serif\" font-size=\"14.00\" text-anchor=\"middle\" x=\"108\" y=\"-208.3\">value = [9, 161]</text>\n",
       "</g>\n",
       "<!-- 1&#45;&gt;2 -->\n",
       "<g class=\"edge\" id=\"edge2\"><title>1-&gt;2</title>\n",
       "<path d=\"M190.39,-296.884C176.315,-285.116 160.5,-271.894 146.518,-260.203\" fill=\"none\" stroke=\"black\"/>\n",
       "<polygon fill=\"black\" points=\"148.441,-257.249 138.524,-253.52 143.951,-262.619 148.441,-257.249\" stroke=\"black\"/>\n",
       "</g>\n",
       "<!-- 3 -->\n",
       "<g class=\"node\" id=\"node4\"><title>3</title>\n",
       "<polygon fill=\"none\" points=\"282,-261 178,-261 178,-193 282,-193 282,-261\" stroke=\"black\"/>\n",
       "<text font-family=\"Times New Roman,serif\" font-size=\"14.00\" text-anchor=\"middle\" x=\"230\" y=\"-245.8\">SibSp &lt;= 2.5</text>\n",
       "<text font-family=\"Times New Roman,serif\" font-size=\"14.00\" text-anchor=\"middle\" x=\"230\" y=\"-230.8\">gini = 0.5</text>\n",
       "<text font-family=\"Times New Roman,serif\" font-size=\"14.00\" text-anchor=\"middle\" x=\"230\" y=\"-215.8\">samples = 144</text>\n",
       "<text font-family=\"Times New Roman,serif\" font-size=\"14.00\" text-anchor=\"middle\" x=\"230\" y=\"-200.8\">value = [72, 72]</text>\n",
       "</g>\n",
       "<!-- 1&#45;&gt;3 -->\n",
       "<g class=\"edge\" id=\"edge3\"><title>1-&gt;3</title>\n",
       "<path d=\"M230,-296.884C230,-288.778 230,-279.982 230,-271.472\" fill=\"none\" stroke=\"black\"/>\n",
       "<polygon fill=\"black\" points=\"233.5,-271.299 230,-261.299 226.5,-271.299 233.5,-271.299\" stroke=\"black\"/>\n",
       "</g>\n",
       "<!-- 4 -->\n",
       "<g class=\"node\" id=\"node5\"><title>4</title>\n",
       "<polygon fill=\"none\" points=\"163,-157 59,-157 59,-89 163,-89 163,-157\" stroke=\"black\"/>\n",
       "<text font-family=\"Times New Roman,serif\" font-size=\"14.00\" text-anchor=\"middle\" x=\"111\" y=\"-141.8\">Age &lt;= 38.5</text>\n",
       "<text font-family=\"Times New Roman,serif\" font-size=\"14.00\" text-anchor=\"middle\" x=\"111\" y=\"-126.8\">gini = 0.495</text>\n",
       "<text font-family=\"Times New Roman,serif\" font-size=\"14.00\" text-anchor=\"middle\" x=\"111\" y=\"-111.8\">samples = 126</text>\n",
       "<text font-family=\"Times New Roman,serif\" font-size=\"14.00\" text-anchor=\"middle\" x=\"111\" y=\"-96.8\">value = [57, 69]</text>\n",
       "</g>\n",
       "<!-- 3&#45;&gt;4 -->\n",
       "<g class=\"edge\" id=\"edge4\"><title>3-&gt;4</title>\n",
       "<path d=\"M191.364,-192.884C180.556,-183.62 168.697,-173.455 157.486,-163.845\" fill=\"none\" stroke=\"black\"/>\n",
       "<polygon fill=\"black\" points=\"159.72,-161.15 149.849,-157.299 155.164,-166.465 159.72,-161.15\" stroke=\"black\"/>\n",
       "</g>\n",
       "<!-- 7 -->\n",
       "<g class=\"node\" id=\"node8\"><title>7</title>\n",
       "<polygon fill=\"none\" points=\"279,-149.5 181,-149.5 181,-96.5 279,-96.5 279,-149.5\" stroke=\"black\"/>\n",
       "<text font-family=\"Times New Roman,serif\" font-size=\"14.00\" text-anchor=\"middle\" x=\"230\" y=\"-134.3\">gini = 0.278</text>\n",
       "<text font-family=\"Times New Roman,serif\" font-size=\"14.00\" text-anchor=\"middle\" x=\"230\" y=\"-119.3\">samples = 18</text>\n",
       "<text font-family=\"Times New Roman,serif\" font-size=\"14.00\" text-anchor=\"middle\" x=\"230\" y=\"-104.3\">value = [15, 3]</text>\n",
       "</g>\n",
       "<!-- 3&#45;&gt;7 -->\n",
       "<g class=\"edge\" id=\"edge7\"><title>3-&gt;7</title>\n",
       "<path d=\"M230,-192.884C230,-182.326 230,-170.597 230,-159.854\" fill=\"none\" stroke=\"black\"/>\n",
       "<polygon fill=\"black\" points=\"233.5,-159.52 230,-149.52 226.5,-159.52 233.5,-159.52\" stroke=\"black\"/>\n",
       "</g>\n",
       "<!-- 5 -->\n",
       "<g class=\"node\" id=\"node6\"><title>5</title>\n",
       "<polygon fill=\"none\" points=\"104,-53 0,-53 0,-0 104,-0 104,-53\" stroke=\"black\"/>\n",
       "<text font-family=\"Times New Roman,serif\" font-size=\"14.00\" text-anchor=\"middle\" x=\"52\" y=\"-37.8\">gini = 0.481</text>\n",
       "<text font-family=\"Times New Roman,serif\" font-size=\"14.00\" text-anchor=\"middle\" x=\"52\" y=\"-22.8\">samples = 114</text>\n",
       "<text font-family=\"Times New Roman,serif\" font-size=\"14.00\" text-anchor=\"middle\" x=\"52\" y=\"-7.8\">value = [46, 68]</text>\n",
       "</g>\n",
       "<!-- 4&#45;&gt;5 -->\n",
       "<g class=\"edge\" id=\"edge5\"><title>4-&gt;5</title>\n",
       "<path d=\"M90.3647,-88.9485C84.8817,-80.1664 78.9483,-70.6629 73.4242,-61.815\" fill=\"none\" stroke=\"black\"/>\n",
       "<polygon fill=\"black\" points=\"76.3333,-59.8656 68.0684,-53.2367 70.3955,-63.5728 76.3333,-59.8656\" stroke=\"black\"/>\n",
       "</g>\n",
       "<!-- 6 -->\n",
       "<g class=\"node\" id=\"node7\"><title>6</title>\n",
       "<polygon fill=\"none\" points=\"220,-53 122,-53 122,-0 220,-0 220,-53\" stroke=\"black\"/>\n",
       "<text font-family=\"Times New Roman,serif\" font-size=\"14.00\" text-anchor=\"middle\" x=\"171\" y=\"-37.8\">gini = 0.153</text>\n",
       "<text font-family=\"Times New Roman,serif\" font-size=\"14.00\" text-anchor=\"middle\" x=\"171\" y=\"-22.8\">samples = 12</text>\n",
       "<text font-family=\"Times New Roman,serif\" font-size=\"14.00\" text-anchor=\"middle\" x=\"171\" y=\"-7.8\">value = [11, 1]</text>\n",
       "</g>\n",
       "<!-- 4&#45;&gt;6 -->\n",
       "<g class=\"edge\" id=\"edge6\"><title>4-&gt;6</title>\n",
       "<path d=\"M131.985,-88.9485C137.561,-80.1664 143.595,-70.6629 149.213,-61.815\" fill=\"none\" stroke=\"black\"/>\n",
       "<polygon fill=\"black\" points=\"152.254,-63.5549 154.659,-53.2367 146.344,-59.8028 152.254,-63.5549\" stroke=\"black\"/>\n",
       "</g>\n",
       "<!-- 9 -->\n",
       "<g class=\"node\" id=\"node10\"><title>9</title>\n",
       "<polygon fill=\"none\" points=\"458,-261 360,-261 360,-193 458,-193 458,-261\" stroke=\"black\"/>\n",
       "<text font-family=\"Times New Roman,serif\" font-size=\"14.00\" text-anchor=\"middle\" x=\"409\" y=\"-245.8\">SibSp &lt;= 2.5</text>\n",
       "<text font-family=\"Times New Roman,serif\" font-size=\"14.00\" text-anchor=\"middle\" x=\"409\" y=\"-230.8\">gini = 0.444</text>\n",
       "<text font-family=\"Times New Roman,serif\" font-size=\"14.00\" text-anchor=\"middle\" x=\"409\" y=\"-215.8\">samples = 24</text>\n",
       "<text font-family=\"Times New Roman,serif\" font-size=\"14.00\" text-anchor=\"middle\" x=\"409\" y=\"-200.8\">value = [8, 16]</text>\n",
       "</g>\n",
       "<!-- 8&#45;&gt;9 -->\n",
       "<g class=\"edge\" id=\"edge9\"><title>8-&gt;9</title>\n",
       "<path d=\"M409,-296.884C409,-288.778 409,-279.982 409,-271.472\" fill=\"none\" stroke=\"black\"/>\n",
       "<polygon fill=\"black\" points=\"412.5,-271.299 409,-261.299 405.5,-271.299 412.5,-271.299\" stroke=\"black\"/>\n",
       "</g>\n",
       "<!-- 12 -->\n",
       "<g class=\"node\" id=\"node13\"><title>12</title>\n",
       "<polygon fill=\"none\" points=\"633.5,-261 522.5,-261 522.5,-193 633.5,-193 633.5,-261\" stroke=\"black\"/>\n",
       "<text font-family=\"Times New Roman,serif\" font-size=\"14.00\" text-anchor=\"middle\" x=\"578\" y=\"-245.8\">Pclass_1 &lt;= 0.5</text>\n",
       "<text font-family=\"Times New Roman,serif\" font-size=\"14.00\" text-anchor=\"middle\" x=\"578\" y=\"-230.8\">gini = 0.28</text>\n",
       "<text font-family=\"Times New Roman,serif\" font-size=\"14.00\" text-anchor=\"middle\" x=\"578\" y=\"-215.8\">samples = 553</text>\n",
       "<text font-family=\"Times New Roman,serif\" font-size=\"14.00\" text-anchor=\"middle\" x=\"578\" y=\"-200.8\">value = [460, 93]</text>\n",
       "</g>\n",
       "<!-- 8&#45;&gt;12 -->\n",
       "<g class=\"edge\" id=\"edge12\"><title>8-&gt;12</title>\n",
       "<path d=\"M463.869,-296.884C480.038,-287.125 497.864,-276.366 514.525,-266.31\" fill=\"none\" stroke=\"black\"/>\n",
       "<polygon fill=\"black\" points=\"516.364,-269.289 523.117,-261.125 512.747,-263.296 516.364,-269.289\" stroke=\"black\"/>\n",
       "</g>\n",
       "<!-- 10 -->\n",
       "<g class=\"node\" id=\"node11\"><title>10</title>\n",
       "<polygon fill=\"none\" points=\"395,-149.5 297,-149.5 297,-96.5 395,-96.5 395,-149.5\" stroke=\"black\"/>\n",
       "<text font-family=\"Times New Roman,serif\" font-size=\"14.00\" text-anchor=\"middle\" x=\"346\" y=\"-134.3\">gini = 0.0</text>\n",
       "<text font-family=\"Times New Roman,serif\" font-size=\"14.00\" text-anchor=\"middle\" x=\"346\" y=\"-119.3\">samples = 15</text>\n",
       "<text font-family=\"Times New Roman,serif\" font-size=\"14.00\" text-anchor=\"middle\" x=\"346\" y=\"-104.3\">value = [0, 15]</text>\n",
       "</g>\n",
       "<!-- 9&#45;&gt;10 -->\n",
       "<g class=\"edge\" id=\"edge10\"><title>9-&gt;10</title>\n",
       "<path d=\"M388.546,-192.884C381.685,-181.776 374.024,-169.372 367.114,-158.184\" fill=\"none\" stroke=\"black\"/>\n",
       "<polygon fill=\"black\" points=\"369.995,-156.189 361.762,-149.52 364.039,-159.867 369.995,-156.189\" stroke=\"black\"/>\n",
       "</g>\n",
       "<!-- 11 -->\n",
       "<g class=\"node\" id=\"node12\"><title>11</title>\n",
       "<polygon fill=\"none\" points=\"504.5,-149.5 413.5,-149.5 413.5,-96.5 504.5,-96.5 504.5,-149.5\" stroke=\"black\"/>\n",
       "<text font-family=\"Times New Roman,serif\" font-size=\"14.00\" text-anchor=\"middle\" x=\"459\" y=\"-134.3\">gini = 0.198</text>\n",
       "<text font-family=\"Times New Roman,serif\" font-size=\"14.00\" text-anchor=\"middle\" x=\"459\" y=\"-119.3\">samples = 9</text>\n",
       "<text font-family=\"Times New Roman,serif\" font-size=\"14.00\" text-anchor=\"middle\" x=\"459\" y=\"-104.3\">value = [8, 1]</text>\n",
       "</g>\n",
       "<!-- 9&#45;&gt;11 -->\n",
       "<g class=\"edge\" id=\"edge11\"><title>9-&gt;11</title>\n",
       "<path d=\"M425.234,-192.884C430.625,-181.886 436.639,-169.617 442.08,-158.517\" fill=\"none\" stroke=\"black\"/>\n",
       "<polygon fill=\"black\" points=\"445.231,-160.04 446.49,-149.52 438.946,-156.959 445.231,-160.04\" stroke=\"black\"/>\n",
       "</g>\n",
       "<!-- 13 -->\n",
       "<g class=\"node\" id=\"node14\"><title>13</title>\n",
       "<polygon fill=\"none\" points=\"633.5,-149.5 522.5,-149.5 522.5,-96.5 633.5,-96.5 633.5,-149.5\" stroke=\"black\"/>\n",
       "<text font-family=\"Times New Roman,serif\" font-size=\"14.00\" text-anchor=\"middle\" x=\"578\" y=\"-134.3\">gini = 0.204</text>\n",
       "<text font-family=\"Times New Roman,serif\" font-size=\"14.00\" text-anchor=\"middle\" x=\"578\" y=\"-119.3\">samples = 433</text>\n",
       "<text font-family=\"Times New Roman,serif\" font-size=\"14.00\" text-anchor=\"middle\" x=\"578\" y=\"-104.3\">value = [383, 50]</text>\n",
       "</g>\n",
       "<!-- 12&#45;&gt;13 -->\n",
       "<g class=\"edge\" id=\"edge13\"><title>12-&gt;13</title>\n",
       "<path d=\"M578,-192.884C578,-182.326 578,-170.597 578,-159.854\" fill=\"none\" stroke=\"black\"/>\n",
       "<polygon fill=\"black\" points=\"581.5,-159.52 578,-149.52 574.5,-159.52 581.5,-159.52\" stroke=\"black\"/>\n",
       "</g>\n",
       "<!-- 14 -->\n",
       "<g class=\"node\" id=\"node15\"><title>14</title>\n",
       "<polygon fill=\"none\" points=\"756,-149.5 652,-149.5 652,-96.5 756,-96.5 756,-149.5\" stroke=\"black\"/>\n",
       "<text font-family=\"Times New Roman,serif\" font-size=\"14.00\" text-anchor=\"middle\" x=\"704\" y=\"-134.3\">gini = 0.46</text>\n",
       "<text font-family=\"Times New Roman,serif\" font-size=\"14.00\" text-anchor=\"middle\" x=\"704\" y=\"-119.3\">samples = 120</text>\n",
       "<text font-family=\"Times New Roman,serif\" font-size=\"14.00\" text-anchor=\"middle\" x=\"704\" y=\"-104.3\">value = [77, 43]</text>\n",
       "</g>\n",
       "<!-- 12&#45;&gt;14 -->\n",
       "<g class=\"edge\" id=\"edge14\"><title>12-&gt;14</title>\n",
       "<path d=\"M618.909,-192.884C633.581,-181.006 650.084,-167.646 664.624,-155.876\" fill=\"none\" stroke=\"black\"/>\n",
       "<polygon fill=\"black\" points=\"666.905,-158.532 672.475,-149.52 662.501,-153.092 666.905,-158.532\" stroke=\"black\"/>\n",
       "</g>\n",
       "</g>\n",
       "</svg>"
      ],
      "text/plain": [
       "<IPython.core.display.SVG object>"
      ]
     },
     "execution_count": 57,
     "metadata": {},
     "output_type": "execute_result"
    }
   ],
   "source": [
    "graph_unscaled = Source( tree.export_graphviz(dt_unscaled, out_file=None, feature_names=X_train.columns))\n",
    "SVG(graph_unscaled.pipe(format='svg'))"
   ]
  },
  {
   "cell_type": "markdown",
   "metadata": {},
   "source": [
    "(4) Discuss the result: For both LR results with L1 and L2: the top 3 features are:'Sex','Pclass_1', and 'Pclass_2'.This  The reuslts make sense: Under both two regularization circumstances, 'sex' is lower than -2, which means males are much more likely to die, whereas females are more likely to survive. More Males possibly gave the chance of survivl to females. Wealthy people who can afford higher class were more likely to take the saft boats. We should also notice that, L2 usually penalize the higher weights more than L1 does, so L1 gives all those three features more values in magnitutde ('Sex'-0.082, 'Pclass_1', 0.506, 'Pclass_2', 0.445) But compared with decision tree approach,LR approach might miss out one important feature: age. LR gives age a too low weight. Not only females, but also children are more likely to survive. Aother thing should be noticed is decision tree use the Pclass3 as a spliting condition, we need to check if it is caused by imbalanced data distribution: maybe more females were at Pclass3, because it conflicts with the second important feature: Pclass1 in LR approach. And for L1 and L2, a more conservative way is to use L2, L1 gives top2 features too much weights after checking with decision tree."
   ]
  },
  {
   "cell_type": "markdown",
   "metadata": {},
   "source": [
    "(5) z-score all features using StandardScaler. z-score both train and test. use fit_transform on train, and transform on test."
   ]
  },
  {
   "cell_type": "code",
   "execution_count": 58,
   "metadata": {
    "collapsed": false
   },
   "outputs": [
    {
     "data": {
      "text/html": [
       "<div>\n",
       "<table border=\"1\" class=\"dataframe\">\n",
       "  <thead>\n",
       "    <tr style=\"text-align: right;\">\n",
       "      <th></th>\n",
       "      <th>Age</th>\n",
       "      <th>SibSp</th>\n",
       "      <th>Parch</th>\n",
       "      <th>Sex</th>\n",
       "      <th>Pclass_1</th>\n",
       "      <th>Pclass_2</th>\n",
       "      <th>Pclass_3</th>\n",
       "    </tr>\n",
       "  </thead>\n",
       "  <tbody>\n",
       "    <tr>\n",
       "      <th>0</th>\n",
       "      <td>-0.592481</td>\n",
       "      <td>0.432793</td>\n",
       "      <td>-0.473674</td>\n",
       "      <td>1</td>\n",
       "      <td>0</td>\n",
       "      <td>0</td>\n",
       "      <td>1</td>\n",
       "    </tr>\n",
       "    <tr>\n",
       "      <th>1</th>\n",
       "      <td>0.638789</td>\n",
       "      <td>0.432793</td>\n",
       "      <td>-0.473674</td>\n",
       "      <td>0</td>\n",
       "      <td>1</td>\n",
       "      <td>0</td>\n",
       "      <td>0</td>\n",
       "    </tr>\n",
       "    <tr>\n",
       "      <th>2</th>\n",
       "      <td>-0.284663</td>\n",
       "      <td>-0.474545</td>\n",
       "      <td>-0.473674</td>\n",
       "      <td>0</td>\n",
       "      <td>0</td>\n",
       "      <td>0</td>\n",
       "      <td>1</td>\n",
       "    </tr>\n",
       "    <tr>\n",
       "      <th>3</th>\n",
       "      <td>0.407926</td>\n",
       "      <td>0.432793</td>\n",
       "      <td>-0.473674</td>\n",
       "      <td>0</td>\n",
       "      <td>1</td>\n",
       "      <td>0</td>\n",
       "      <td>0</td>\n",
       "    </tr>\n",
       "    <tr>\n",
       "      <th>4</th>\n",
       "      <td>0.407926</td>\n",
       "      <td>-0.474545</td>\n",
       "      <td>-0.473674</td>\n",
       "      <td>1</td>\n",
       "      <td>0</td>\n",
       "      <td>0</td>\n",
       "      <td>1</td>\n",
       "    </tr>\n",
       "  </tbody>\n",
       "</table>\n",
       "</div>"
      ],
      "text/plain": [
       "        Age     SibSp     Parch  Sex  Pclass_1  Pclass_2  Pclass_3\n",
       "0 -0.592481  0.432793 -0.473674    1         0         0         1\n",
       "1  0.638789  0.432793 -0.473674    0         1         0         0\n",
       "2 -0.284663 -0.474545 -0.473674    0         0         0         1\n",
       "3  0.407926  0.432793 -0.473674    0         1         0         0\n",
       "4  0.407926 -0.474545 -0.473674    1         0         0         1"
      ]
     },
     "execution_count": 58,
     "metadata": {},
     "output_type": "execute_result"
    }
   ],
   "source": [
    "scaler = StandardScaler().fit(X_train[['Age','SibSp','Parch']])\n",
    "z_data = scaler.transform(X_train[['Age','SibSp','Parch']])\n",
    "dataframe=pd.DataFrame(z_data, columns=['Age','SibSp','Parch']) \n",
    "scaled_train = dataframe.join(X_train[['Sex','Pclass_1','Pclass_2','Pclass_3']])\n",
    "scaled_train.head()"
   ]
  },
  {
   "cell_type": "code",
   "execution_count": 59,
   "metadata": {
    "collapsed": false
   },
   "outputs": [
    {
     "data": {
      "text/html": [
       "<div>\n",
       "<table border=\"1\" class=\"dataframe\">\n",
       "  <thead>\n",
       "    <tr style=\"text-align: right;\">\n",
       "      <th></th>\n",
       "      <th>Age</th>\n",
       "      <th>SibSp</th>\n",
       "      <th>Parch</th>\n",
       "      <th>Sex</th>\n",
       "      <th>Pclass_1</th>\n",
       "      <th>Pclass_2</th>\n",
       "      <th>Pclass_3</th>\n",
       "    </tr>\n",
       "  </thead>\n",
       "  <tbody>\n",
       "    <tr>\n",
       "      <th>0</th>\n",
       "      <td>0.344284</td>\n",
       "      <td>-0.499470</td>\n",
       "      <td>-0.400248</td>\n",
       "      <td>1</td>\n",
       "      <td>0</td>\n",
       "      <td>0</td>\n",
       "      <td>1</td>\n",
       "    </tr>\n",
       "    <tr>\n",
       "      <th>1</th>\n",
       "      <td>1.334655</td>\n",
       "      <td>0.616992</td>\n",
       "      <td>-0.400248</td>\n",
       "      <td>0</td>\n",
       "      <td>0</td>\n",
       "      <td>0</td>\n",
       "      <td>1</td>\n",
       "    </tr>\n",
       "    <tr>\n",
       "      <th>2</th>\n",
       "      <td>2.523099</td>\n",
       "      <td>-0.499470</td>\n",
       "      <td>-0.400248</td>\n",
       "      <td>1</td>\n",
       "      <td>0</td>\n",
       "      <td>1</td>\n",
       "      <td>0</td>\n",
       "    </tr>\n",
       "    <tr>\n",
       "      <th>3</th>\n",
       "      <td>-0.249938</td>\n",
       "      <td>-0.499470</td>\n",
       "      <td>-0.400248</td>\n",
       "      <td>1</td>\n",
       "      <td>0</td>\n",
       "      <td>0</td>\n",
       "      <td>1</td>\n",
       "    </tr>\n",
       "    <tr>\n",
       "      <th>4</th>\n",
       "      <td>-0.646086</td>\n",
       "      <td>0.616992</td>\n",
       "      <td>0.619896</td>\n",
       "      <td>0</td>\n",
       "      <td>0</td>\n",
       "      <td>0</td>\n",
       "      <td>1</td>\n",
       "    </tr>\n",
       "  </tbody>\n",
       "</table>\n",
       "</div>"
      ],
      "text/plain": [
       "        Age     SibSp     Parch  Sex  Pclass_1  Pclass_2  Pclass_3\n",
       "0  0.344284 -0.499470 -0.400248    1         0         0         1\n",
       "1  1.334655  0.616992 -0.400248    0         0         0         1\n",
       "2  2.523099 -0.499470 -0.400248    1         0         1         0\n",
       "3 -0.249938 -0.499470 -0.400248    1         0         0         1\n",
       "4 -0.646086  0.616992  0.619896    0         0         0         1"
      ]
     },
     "execution_count": 59,
     "metadata": {},
     "output_type": "execute_result"
    }
   ],
   "source": [
    "scaler_test = StandardScaler().fit(X_test[['Age','SibSp','Parch']])\n",
    "z_data_test = scaler_test.transform(X_test[['Age','SibSp','Parch']])\n",
    "dataframe_test=pd.DataFrame(z_data_test, columns=['Age','SibSp','Parch']) \n",
    "scaled_test = dataframe_test.join(X_test[['Sex','Pclass_1','Pclass_2','Pclass_3']])\n",
    "scaled_test.head()"
   ]
  },
  {
   "cell_type": "code",
   "execution_count": 60,
   "metadata": {
    "collapsed": true
   },
   "outputs": [],
   "source": [
    "a_scaled = {}\n",
    "a_scaled['X_train'] = scaled_train\n",
    "a_scaled['y_train'] = y_train\n",
    "a_scaled['X_test'] = scaled_test\n",
    "a_scaled['target_names'] = ['Survived']\n",
    "a_scaled['feature_names'] = ['Sex','Age','SibSp','Parch','Pclass_1','Pclass_2','Pclass_3']\n",
    "pickle.dump(a_scaled, open(\"lliu54_scaled.pickle\", \"wb\"))"
   ]
  },
  {
   "cell_type": "markdown",
   "metadata": {},
   "source": [
    "(6) Repeat steps 1-4 (i.e., train L2-LR, print top 10 features and their weights, and so on) using the scaled version of the data and discuss the results.\n",
    "\n",
    "(a) Train an L2-regularized LogisticRegression classifier on scaled data, find top features."
   ]
  },
  {
   "cell_type": "code",
   "execution_count": 61,
   "metadata": {
    "collapsed": false
   },
   "outputs": [
    {
     "name": "stdout",
     "output_type": "stream",
     "text": [
      "top features for scaled data with L2 penalty:  [('Parch', -2.627), ('Pclass_1', 1.468), ('Pclass_3', -0.767), ('Sex', -0.497), ('Age', -0.35), ('Pclass_2', 0.345), ('SibSp', -0.053)]\n"
     ]
    }
   ],
   "source": [
    "lr_l2scaled =LogisticRegression(penalty='l2')\n",
    "lr_l2scaled.fit(scaled_train,y_train)\n",
    "print('top features for scaled data with L2 penalty: ',top_features(lr_l2scaled))"
   ]
  },
  {
   "cell_type": "markdown",
   "metadata": {},
   "source": [
    "(b) Train an L1-regularized LogisticRegression classifier on scaled data, find top features."
   ]
  },
  {
   "cell_type": "code",
   "execution_count": 62,
   "metadata": {
    "collapsed": false
   },
   "outputs": [
    {
     "name": "stdout",
     "output_type": "stream",
     "text": [
      "top features for scaled data with L1 penalty:  [('Parch', -2.685), ('Pclass_1', 2.238), ('Pclass_2', 1.072), ('Sex', -0.496), ('Age', -0.35), ('SibSp', -0.053), ('Pclass_3', -0.022)]\n"
     ]
    }
   ],
   "source": [
    "lr_l1scaled =LogisticRegression(penalty='l1')\n",
    "lr_l1scaled.fit(scaled_train,y_train)\n",
    "print('top features for scaled data with L1 penalty: ',top_features(lr_l1scaled))"
   ]
  },
  {
   "cell_type": "code",
   "execution_count": 63,
   "metadata": {
    "collapsed": false
   },
   "outputs": [
    {
     "name": "stdout",
     "output_type": "stream",
     "text": [
      "L1 VS L2 weight difference on scaled data: [('Parch', -0.058), ('Pclass_1', 0.77), ('Pclass_2', 1.839), ('Sex', 0.001), ('Age', 0.0), ('SibSp', -0.398), ('Pclass_3', 0.031)]\n"
     ]
    }
   ],
   "source": [
    "print('L1 VS L2 weight difference on scaled data:',penalty_change(top_features(lr_l1scaled),top_features(lr_l2scaled)))"
   ]
  },
  {
   "cell_type": "markdown",
   "metadata": {},
   "source": [
    "(c) train a decision tree on scaled data, print the tree"
   ]
  },
  {
   "cell_type": "code",
   "execution_count": 64,
   "metadata": {
    "collapsed": false
   },
   "outputs": [
    {
     "data": {
      "text/plain": [
       "DecisionTreeClassifier(class_weight=None, criterion='gini', max_depth=6,\n",
       "            max_features=None, max_leaf_nodes=None,\n",
       "            min_impurity_decrease=0.005, min_impurity_split=None,\n",
       "            min_samples_leaf=1, min_samples_split=2,\n",
       "            min_weight_fraction_leaf=0.0, presort=False, random_state=None,\n",
       "            splitter='best')"
      ]
     },
     "execution_count": 64,
     "metadata": {},
     "output_type": "execute_result"
    }
   ],
   "source": [
    "dt_scaled = tree.DecisionTreeClassifier(max_depth=6, min_impurity_decrease =0.005)\n",
    "dt_scaled.fit(X_train,y_train)"
   ]
  },
  {
   "cell_type": "code",
   "execution_count": 65,
   "metadata": {
    "collapsed": false
   },
   "outputs": [
    {
     "data": {
      "image/svg+xml": [
       "<svg height=\"477pt\" viewBox=\"0.00 0.00 764.00 477.00\" width=\"764pt\" xmlns=\"http://www.w3.org/2000/svg\" xmlns:xlink=\"http://www.w3.org/1999/xlink\">\n",
       "<g class=\"graph\" id=\"graph0\" transform=\"scale(1 1) rotate(0) translate(4 473)\">\n",
       "<title>Tree</title>\n",
       "<polygon fill=\"white\" points=\"-4,4 -4,-473 760,-473 760,4 -4,4\" stroke=\"none\"/>\n",
       "<!-- 0 -->\n",
       "<g class=\"node\" id=\"node1\"><title>0</title>\n",
       "<polygon fill=\"none\" points=\"378,-469 260,-469 260,-401 378,-401 378,-469\" stroke=\"black\"/>\n",
       "<text font-family=\"Times New Roman,serif\" font-size=\"14.00\" text-anchor=\"middle\" x=\"319\" y=\"-453.8\">Sex &lt;= 0.5</text>\n",
       "<text font-family=\"Times New Roman,serif\" font-size=\"14.00\" text-anchor=\"middle\" x=\"319\" y=\"-438.8\">gini = 0.473</text>\n",
       "<text font-family=\"Times New Roman,serif\" font-size=\"14.00\" text-anchor=\"middle\" x=\"319\" y=\"-423.8\">samples = 891</text>\n",
       "<text font-family=\"Times New Roman,serif\" font-size=\"14.00\" text-anchor=\"middle\" x=\"319\" y=\"-408.8\">value = [549, 342]</text>\n",
       "</g>\n",
       "<!-- 1 -->\n",
       "<g class=\"node\" id=\"node2\"><title>1</title>\n",
       "<polygon fill=\"none\" points=\"285.5,-365 174.5,-365 174.5,-297 285.5,-297 285.5,-365\" stroke=\"black\"/>\n",
       "<text font-family=\"Times New Roman,serif\" font-size=\"14.00\" text-anchor=\"middle\" x=\"230\" y=\"-349.8\">Pclass_3 &lt;= 0.5</text>\n",
       "<text font-family=\"Times New Roman,serif\" font-size=\"14.00\" text-anchor=\"middle\" x=\"230\" y=\"-334.8\">gini = 0.383</text>\n",
       "<text font-family=\"Times New Roman,serif\" font-size=\"14.00\" text-anchor=\"middle\" x=\"230\" y=\"-319.8\">samples = 314</text>\n",
       "<text font-family=\"Times New Roman,serif\" font-size=\"14.00\" text-anchor=\"middle\" x=\"230\" y=\"-304.8\">value = [81, 233]</text>\n",
       "</g>\n",
       "<!-- 0&#45;&gt;1 -->\n",
       "<g class=\"edge\" id=\"edge1\"><title>0-&gt;1</title>\n",
       "<path d=\"M290.104,-400.884C282.332,-391.976 273.833,-382.235 265.737,-372.957\" fill=\"none\" stroke=\"black\"/>\n",
       "<polygon fill=\"black\" points=\"268.267,-370.533 259.055,-365.299 262.993,-375.135 268.267,-370.533\" stroke=\"black\"/>\n",
       "<text font-family=\"Times New Roman,serif\" font-size=\"14.00\" text-anchor=\"middle\" x=\"257.358\" y=\"-386.542\">True</text>\n",
       "</g>\n",
       "<!-- 8 -->\n",
       "<g class=\"node\" id=\"node9\"><title>8</title>\n",
       "<polygon fill=\"none\" points=\"468,-365 350,-365 350,-297 468,-297 468,-365\" stroke=\"black\"/>\n",
       "<text font-family=\"Times New Roman,serif\" font-size=\"14.00\" text-anchor=\"middle\" x=\"409\" y=\"-349.8\">Age &lt;= 6.5</text>\n",
       "<text font-family=\"Times New Roman,serif\" font-size=\"14.00\" text-anchor=\"middle\" x=\"409\" y=\"-334.8\">gini = 0.306</text>\n",
       "<text font-family=\"Times New Roman,serif\" font-size=\"14.00\" text-anchor=\"middle\" x=\"409\" y=\"-319.8\">samples = 577</text>\n",
       "<text font-family=\"Times New Roman,serif\" font-size=\"14.00\" text-anchor=\"middle\" x=\"409\" y=\"-304.8\">value = [468, 109]</text>\n",
       "</g>\n",
       "<!-- 0&#45;&gt;8 -->\n",
       "<g class=\"edge\" id=\"edge8\"><title>0-&gt;8</title>\n",
       "<path d=\"M348.22,-400.884C356.08,-391.976 364.675,-382.235 372.862,-372.957\" fill=\"none\" stroke=\"black\"/>\n",
       "<polygon fill=\"black\" points=\"375.626,-375.113 379.618,-365.299 370.378,-370.482 375.626,-375.113\" stroke=\"black\"/>\n",
       "<text font-family=\"Times New Roman,serif\" font-size=\"14.00\" text-anchor=\"middle\" x=\"381.178\" y=\"-386.551\">False</text>\n",
       "</g>\n",
       "<!-- 2 -->\n",
       "<g class=\"node\" id=\"node3\"><title>2</title>\n",
       "<polygon fill=\"none\" points=\"160,-253.5 56,-253.5 56,-200.5 160,-200.5 160,-253.5\" stroke=\"black\"/>\n",
       "<text font-family=\"Times New Roman,serif\" font-size=\"14.00\" text-anchor=\"middle\" x=\"108\" y=\"-238.3\">gini = 0.1</text>\n",
       "<text font-family=\"Times New Roman,serif\" font-size=\"14.00\" text-anchor=\"middle\" x=\"108\" y=\"-223.3\">samples = 170</text>\n",
       "<text font-family=\"Times New Roman,serif\" font-size=\"14.00\" text-anchor=\"middle\" x=\"108\" y=\"-208.3\">value = [9, 161]</text>\n",
       "</g>\n",
       "<!-- 1&#45;&gt;2 -->\n",
       "<g class=\"edge\" id=\"edge2\"><title>1-&gt;2</title>\n",
       "<path d=\"M190.39,-296.884C176.315,-285.116 160.5,-271.894 146.518,-260.203\" fill=\"none\" stroke=\"black\"/>\n",
       "<polygon fill=\"black\" points=\"148.441,-257.249 138.524,-253.52 143.951,-262.619 148.441,-257.249\" stroke=\"black\"/>\n",
       "</g>\n",
       "<!-- 3 -->\n",
       "<g class=\"node\" id=\"node4\"><title>3</title>\n",
       "<polygon fill=\"none\" points=\"282,-261 178,-261 178,-193 282,-193 282,-261\" stroke=\"black\"/>\n",
       "<text font-family=\"Times New Roman,serif\" font-size=\"14.00\" text-anchor=\"middle\" x=\"230\" y=\"-245.8\">SibSp &lt;= 2.5</text>\n",
       "<text font-family=\"Times New Roman,serif\" font-size=\"14.00\" text-anchor=\"middle\" x=\"230\" y=\"-230.8\">gini = 0.5</text>\n",
       "<text font-family=\"Times New Roman,serif\" font-size=\"14.00\" text-anchor=\"middle\" x=\"230\" y=\"-215.8\">samples = 144</text>\n",
       "<text font-family=\"Times New Roman,serif\" font-size=\"14.00\" text-anchor=\"middle\" x=\"230\" y=\"-200.8\">value = [72, 72]</text>\n",
       "</g>\n",
       "<!-- 1&#45;&gt;3 -->\n",
       "<g class=\"edge\" id=\"edge3\"><title>1-&gt;3</title>\n",
       "<path d=\"M230,-296.884C230,-288.778 230,-279.982 230,-271.472\" fill=\"none\" stroke=\"black\"/>\n",
       "<polygon fill=\"black\" points=\"233.5,-271.299 230,-261.299 226.5,-271.299 233.5,-271.299\" stroke=\"black\"/>\n",
       "</g>\n",
       "<!-- 4 -->\n",
       "<g class=\"node\" id=\"node5\"><title>4</title>\n",
       "<polygon fill=\"none\" points=\"163,-157 59,-157 59,-89 163,-89 163,-157\" stroke=\"black\"/>\n",
       "<text font-family=\"Times New Roman,serif\" font-size=\"14.00\" text-anchor=\"middle\" x=\"111\" y=\"-141.8\">Age &lt;= 38.5</text>\n",
       "<text font-family=\"Times New Roman,serif\" font-size=\"14.00\" text-anchor=\"middle\" x=\"111\" y=\"-126.8\">gini = 0.495</text>\n",
       "<text font-family=\"Times New Roman,serif\" font-size=\"14.00\" text-anchor=\"middle\" x=\"111\" y=\"-111.8\">samples = 126</text>\n",
       "<text font-family=\"Times New Roman,serif\" font-size=\"14.00\" text-anchor=\"middle\" x=\"111\" y=\"-96.8\">value = [57, 69]</text>\n",
       "</g>\n",
       "<!-- 3&#45;&gt;4 -->\n",
       "<g class=\"edge\" id=\"edge4\"><title>3-&gt;4</title>\n",
       "<path d=\"M191.364,-192.884C180.556,-183.62 168.697,-173.455 157.486,-163.845\" fill=\"none\" stroke=\"black\"/>\n",
       "<polygon fill=\"black\" points=\"159.72,-161.15 149.849,-157.299 155.164,-166.465 159.72,-161.15\" stroke=\"black\"/>\n",
       "</g>\n",
       "<!-- 7 -->\n",
       "<g class=\"node\" id=\"node8\"><title>7</title>\n",
       "<polygon fill=\"none\" points=\"279,-149.5 181,-149.5 181,-96.5 279,-96.5 279,-149.5\" stroke=\"black\"/>\n",
       "<text font-family=\"Times New Roman,serif\" font-size=\"14.00\" text-anchor=\"middle\" x=\"230\" y=\"-134.3\">gini = 0.278</text>\n",
       "<text font-family=\"Times New Roman,serif\" font-size=\"14.00\" text-anchor=\"middle\" x=\"230\" y=\"-119.3\">samples = 18</text>\n",
       "<text font-family=\"Times New Roman,serif\" font-size=\"14.00\" text-anchor=\"middle\" x=\"230\" y=\"-104.3\">value = [15, 3]</text>\n",
       "</g>\n",
       "<!-- 3&#45;&gt;7 -->\n",
       "<g class=\"edge\" id=\"edge7\"><title>3-&gt;7</title>\n",
       "<path d=\"M230,-192.884C230,-182.326 230,-170.597 230,-159.854\" fill=\"none\" stroke=\"black\"/>\n",
       "<polygon fill=\"black\" points=\"233.5,-159.52 230,-149.52 226.5,-159.52 233.5,-159.52\" stroke=\"black\"/>\n",
       "</g>\n",
       "<!-- 5 -->\n",
       "<g class=\"node\" id=\"node6\"><title>5</title>\n",
       "<polygon fill=\"none\" points=\"104,-53 0,-53 0,-0 104,-0 104,-53\" stroke=\"black\"/>\n",
       "<text font-family=\"Times New Roman,serif\" font-size=\"14.00\" text-anchor=\"middle\" x=\"52\" y=\"-37.8\">gini = 0.481</text>\n",
       "<text font-family=\"Times New Roman,serif\" font-size=\"14.00\" text-anchor=\"middle\" x=\"52\" y=\"-22.8\">samples = 114</text>\n",
       "<text font-family=\"Times New Roman,serif\" font-size=\"14.00\" text-anchor=\"middle\" x=\"52\" y=\"-7.8\">value = [46, 68]</text>\n",
       "</g>\n",
       "<!-- 4&#45;&gt;5 -->\n",
       "<g class=\"edge\" id=\"edge5\"><title>4-&gt;5</title>\n",
       "<path d=\"M90.3647,-88.9485C84.8817,-80.1664 78.9483,-70.6629 73.4242,-61.815\" fill=\"none\" stroke=\"black\"/>\n",
       "<polygon fill=\"black\" points=\"76.3333,-59.8656 68.0684,-53.2367 70.3955,-63.5728 76.3333,-59.8656\" stroke=\"black\"/>\n",
       "</g>\n",
       "<!-- 6 -->\n",
       "<g class=\"node\" id=\"node7\"><title>6</title>\n",
       "<polygon fill=\"none\" points=\"220,-53 122,-53 122,-0 220,-0 220,-53\" stroke=\"black\"/>\n",
       "<text font-family=\"Times New Roman,serif\" font-size=\"14.00\" text-anchor=\"middle\" x=\"171\" y=\"-37.8\">gini = 0.153</text>\n",
       "<text font-family=\"Times New Roman,serif\" font-size=\"14.00\" text-anchor=\"middle\" x=\"171\" y=\"-22.8\">samples = 12</text>\n",
       "<text font-family=\"Times New Roman,serif\" font-size=\"14.00\" text-anchor=\"middle\" x=\"171\" y=\"-7.8\">value = [11, 1]</text>\n",
       "</g>\n",
       "<!-- 4&#45;&gt;6 -->\n",
       "<g class=\"edge\" id=\"edge6\"><title>4-&gt;6</title>\n",
       "<path d=\"M131.985,-88.9485C137.561,-80.1664 143.595,-70.6629 149.213,-61.815\" fill=\"none\" stroke=\"black\"/>\n",
       "<polygon fill=\"black\" points=\"152.254,-63.5549 154.659,-53.2367 146.344,-59.8028 152.254,-63.5549\" stroke=\"black\"/>\n",
       "</g>\n",
       "<!-- 9 -->\n",
       "<g class=\"node\" id=\"node10\"><title>9</title>\n",
       "<polygon fill=\"none\" points=\"458,-261 360,-261 360,-193 458,-193 458,-261\" stroke=\"black\"/>\n",
       "<text font-family=\"Times New Roman,serif\" font-size=\"14.00\" text-anchor=\"middle\" x=\"409\" y=\"-245.8\">SibSp &lt;= 2.5</text>\n",
       "<text font-family=\"Times New Roman,serif\" font-size=\"14.00\" text-anchor=\"middle\" x=\"409\" y=\"-230.8\">gini = 0.444</text>\n",
       "<text font-family=\"Times New Roman,serif\" font-size=\"14.00\" text-anchor=\"middle\" x=\"409\" y=\"-215.8\">samples = 24</text>\n",
       "<text font-family=\"Times New Roman,serif\" font-size=\"14.00\" text-anchor=\"middle\" x=\"409\" y=\"-200.8\">value = [8, 16]</text>\n",
       "</g>\n",
       "<!-- 8&#45;&gt;9 -->\n",
       "<g class=\"edge\" id=\"edge9\"><title>8-&gt;9</title>\n",
       "<path d=\"M409,-296.884C409,-288.778 409,-279.982 409,-271.472\" fill=\"none\" stroke=\"black\"/>\n",
       "<polygon fill=\"black\" points=\"412.5,-271.299 409,-261.299 405.5,-271.299 412.5,-271.299\" stroke=\"black\"/>\n",
       "</g>\n",
       "<!-- 12 -->\n",
       "<g class=\"node\" id=\"node13\"><title>12</title>\n",
       "<polygon fill=\"none\" points=\"633.5,-261 522.5,-261 522.5,-193 633.5,-193 633.5,-261\" stroke=\"black\"/>\n",
       "<text font-family=\"Times New Roman,serif\" font-size=\"14.00\" text-anchor=\"middle\" x=\"578\" y=\"-245.8\">Pclass_1 &lt;= 0.5</text>\n",
       "<text font-family=\"Times New Roman,serif\" font-size=\"14.00\" text-anchor=\"middle\" x=\"578\" y=\"-230.8\">gini = 0.28</text>\n",
       "<text font-family=\"Times New Roman,serif\" font-size=\"14.00\" text-anchor=\"middle\" x=\"578\" y=\"-215.8\">samples = 553</text>\n",
       "<text font-family=\"Times New Roman,serif\" font-size=\"14.00\" text-anchor=\"middle\" x=\"578\" y=\"-200.8\">value = [460, 93]</text>\n",
       "</g>\n",
       "<!-- 8&#45;&gt;12 -->\n",
       "<g class=\"edge\" id=\"edge12\"><title>8-&gt;12</title>\n",
       "<path d=\"M463.869,-296.884C480.038,-287.125 497.864,-276.366 514.525,-266.31\" fill=\"none\" stroke=\"black\"/>\n",
       "<polygon fill=\"black\" points=\"516.364,-269.289 523.117,-261.125 512.747,-263.296 516.364,-269.289\" stroke=\"black\"/>\n",
       "</g>\n",
       "<!-- 10 -->\n",
       "<g class=\"node\" id=\"node11\"><title>10</title>\n",
       "<polygon fill=\"none\" points=\"395,-149.5 297,-149.5 297,-96.5 395,-96.5 395,-149.5\" stroke=\"black\"/>\n",
       "<text font-family=\"Times New Roman,serif\" font-size=\"14.00\" text-anchor=\"middle\" x=\"346\" y=\"-134.3\">gini = 0.0</text>\n",
       "<text font-family=\"Times New Roman,serif\" font-size=\"14.00\" text-anchor=\"middle\" x=\"346\" y=\"-119.3\">samples = 15</text>\n",
       "<text font-family=\"Times New Roman,serif\" font-size=\"14.00\" text-anchor=\"middle\" x=\"346\" y=\"-104.3\">value = [0, 15]</text>\n",
       "</g>\n",
       "<!-- 9&#45;&gt;10 -->\n",
       "<g class=\"edge\" id=\"edge10\"><title>9-&gt;10</title>\n",
       "<path d=\"M388.546,-192.884C381.685,-181.776 374.024,-169.372 367.114,-158.184\" fill=\"none\" stroke=\"black\"/>\n",
       "<polygon fill=\"black\" points=\"369.995,-156.189 361.762,-149.52 364.039,-159.867 369.995,-156.189\" stroke=\"black\"/>\n",
       "</g>\n",
       "<!-- 11 -->\n",
       "<g class=\"node\" id=\"node12\"><title>11</title>\n",
       "<polygon fill=\"none\" points=\"504.5,-149.5 413.5,-149.5 413.5,-96.5 504.5,-96.5 504.5,-149.5\" stroke=\"black\"/>\n",
       "<text font-family=\"Times New Roman,serif\" font-size=\"14.00\" text-anchor=\"middle\" x=\"459\" y=\"-134.3\">gini = 0.198</text>\n",
       "<text font-family=\"Times New Roman,serif\" font-size=\"14.00\" text-anchor=\"middle\" x=\"459\" y=\"-119.3\">samples = 9</text>\n",
       "<text font-family=\"Times New Roman,serif\" font-size=\"14.00\" text-anchor=\"middle\" x=\"459\" y=\"-104.3\">value = [8, 1]</text>\n",
       "</g>\n",
       "<!-- 9&#45;&gt;11 -->\n",
       "<g class=\"edge\" id=\"edge11\"><title>9-&gt;11</title>\n",
       "<path d=\"M425.234,-192.884C430.625,-181.886 436.639,-169.617 442.08,-158.517\" fill=\"none\" stroke=\"black\"/>\n",
       "<polygon fill=\"black\" points=\"445.231,-160.04 446.49,-149.52 438.946,-156.959 445.231,-160.04\" stroke=\"black\"/>\n",
       "</g>\n",
       "<!-- 13 -->\n",
       "<g class=\"node\" id=\"node14\"><title>13</title>\n",
       "<polygon fill=\"none\" points=\"633.5,-149.5 522.5,-149.5 522.5,-96.5 633.5,-96.5 633.5,-149.5\" stroke=\"black\"/>\n",
       "<text font-family=\"Times New Roman,serif\" font-size=\"14.00\" text-anchor=\"middle\" x=\"578\" y=\"-134.3\">gini = 0.204</text>\n",
       "<text font-family=\"Times New Roman,serif\" font-size=\"14.00\" text-anchor=\"middle\" x=\"578\" y=\"-119.3\">samples = 433</text>\n",
       "<text font-family=\"Times New Roman,serif\" font-size=\"14.00\" text-anchor=\"middle\" x=\"578\" y=\"-104.3\">value = [383, 50]</text>\n",
       "</g>\n",
       "<!-- 12&#45;&gt;13 -->\n",
       "<g class=\"edge\" id=\"edge13\"><title>12-&gt;13</title>\n",
       "<path d=\"M578,-192.884C578,-182.326 578,-170.597 578,-159.854\" fill=\"none\" stroke=\"black\"/>\n",
       "<polygon fill=\"black\" points=\"581.5,-159.52 578,-149.52 574.5,-159.52 581.5,-159.52\" stroke=\"black\"/>\n",
       "</g>\n",
       "<!-- 14 -->\n",
       "<g class=\"node\" id=\"node15\"><title>14</title>\n",
       "<polygon fill=\"none\" points=\"756,-149.5 652,-149.5 652,-96.5 756,-96.5 756,-149.5\" stroke=\"black\"/>\n",
       "<text font-family=\"Times New Roman,serif\" font-size=\"14.00\" text-anchor=\"middle\" x=\"704\" y=\"-134.3\">gini = 0.46</text>\n",
       "<text font-family=\"Times New Roman,serif\" font-size=\"14.00\" text-anchor=\"middle\" x=\"704\" y=\"-119.3\">samples = 120</text>\n",
       "<text font-family=\"Times New Roman,serif\" font-size=\"14.00\" text-anchor=\"middle\" x=\"704\" y=\"-104.3\">value = [77, 43]</text>\n",
       "</g>\n",
       "<!-- 12&#45;&gt;14 -->\n",
       "<g class=\"edge\" id=\"edge14\"><title>12-&gt;14</title>\n",
       "<path d=\"M618.909,-192.884C633.581,-181.006 650.084,-167.646 664.624,-155.876\" fill=\"none\" stroke=\"black\"/>\n",
       "<polygon fill=\"black\" points=\"666.905,-158.532 672.475,-149.52 662.501,-153.092 666.905,-158.532\" stroke=\"black\"/>\n",
       "</g>\n",
       "</g>\n",
       "</svg>"
      ],
      "text/plain": [
       "<IPython.core.display.SVG object>"
      ]
     },
     "execution_count": 65,
     "metadata": {},
     "output_type": "execute_result"
    }
   ],
   "source": [
    "graph_scaled = Source( tree.export_graphviz(dt_scaled, out_file=None, feature_names=X_train.columns))\n",
    "SVG(graph_scaled.pipe(format='svg'))"
   ]
  },
  {
   "cell_type": "markdown",
   "metadata": {},
   "source": [
    "(d) discuss the result:For both LR results with L1 and L2: the top 2 features are:'Parch','Pclass_1', the third important feature is Pclass2 or Pclass3. The reuslts does not quite make sense: because the acutal colomn for Parch is relatively sparse: not so many people were staying there with their parents or children. Standardizing this column values might cause miss-leading result: more parch, more burden in the disaster, more likely failed to escape! Picking up Pclass1 make sense. For the third important feature, medium positive Pclass2 can approximate a negative Plcass3,this is actually a multicollinearity issue: only three Pclass to be features, two of them can infer the rest one, we should delete one Pclass to avoid this situation. For the decision tree, the result is same. It make sense, for a approach which does not invovle any mathematical manipulation, all changed features actually change to a 'same' extent, the spliting conditions won't change."
   ]
  },
  {
   "cell_type": "markdown",
   "metadata": {},
   "source": [
    "5,Evidence\n",
    "find objects: The most positive object with respect to the probabilities.\n",
    "The most negative object with respect to the probabilities.\n",
    "The object that has the largest positive evidence.\n",
    "The object that has the largest (in magnitude) negative evidence.\n",
    "The most uncertain object (the probabilities are closest to 0.5)"
   ]
  },
  {
   "cell_type": "code",
   "execution_count": 66,
   "metadata": {
    "collapsed": false
   },
   "outputs": [
    {
     "name": "stdout",
     "output_type": "stream",
     "text": [
      "most positive object and its positive probability: [231] 0.955630883762\n",
      "most negative object and its negative probability: [360] 0.991581770363\n"
     ]
    }
   ],
   "source": [
    "proba = lr_l2scaled.predict_proba(scaled_test)\n",
    "log_proba = lr_l2scaled.predict_log_proba(scaled_test)\n",
    "print('most positive object and its positive probability:', np.argsort(proba[:,1])[[-1]],np.sort(proba[:,1])[-1])\n",
    "print('most negative object and its negative probability:', np.argsort(proba[:,0])[[-1]],np.sort(proba[:,0])[-1])"
   ]
  },
  {
   "cell_type": "markdown",
   "metadata": {},
   "source": [
    "Multiply values of features and their corresponding weights to get the evidence matrix: "
   ]
  },
  {
   "cell_type": "code",
   "execution_count": 67,
   "metadata": {
    "collapsed": true
   },
   "outputs": [],
   "source": [
    "value_matrix = scaled_test.values\n",
    "evid_mtr = np.multiply(value_matrix,lr_l2scaled.coef_[0])"
   ]
  },
  {
   "cell_type": "code",
   "execution_count": 68,
   "metadata": {
    "collapsed": false
   },
   "outputs": [
    {
     "data": {
      "text/plain": [
       "array([ 0.04436912,  0.95563088])"
      ]
     },
     "execution_count": 68,
     "metadata": {},
     "output_type": "execute_result"
    }
   ],
   "source": [
    "proba[231]"
   ]
  },
  {
   "cell_type": "markdown",
   "metadata": {},
   "source": [
    "Create each object's positive evidence and negative evidence:"
   ]
  },
  {
   "cell_type": "code",
   "execution_count": 69,
   "metadata": {
    "collapsed": true
   },
   "outputs": [],
   "source": [
    "pos_evid = [0] * evid_mtr.shape[0]\n",
    "neg_evid = [0] * evid_mtr.shape[0]\n",
    "for i in range(evid_mtr.shape[0]):\n",
    "    for j in range(evid_mtr.shape[1]):\n",
    "        if evid_mtr[i,j] > 0:\n",
    "            pos_evid[i] += evid_mtr[i,j]\n",
    "        else:\n",
    "            neg_evid[i] += evid_mtr[i,j]"
   ]
  },
  {
   "cell_type": "markdown",
   "metadata": {},
   "source": [
    "1 and 2 \n",
    "\n",
    "For both the most positive object with respect to the probabilities and the most negative object with respect to the probabilities.\n",
    "\n",
    "a) the total positive evidence,  b) the total negative evidence, c) probability distribution"
   ]
  },
  {
   "cell_type": "code",
   "execution_count": 70,
   "metadata": {
    "collapsed": false
   },
   "outputs": [
    {
     "name": "stdout",
     "output_type": "stream",
     "text": [
      "the total positive evidence for most positive object: 2.02434219626\n",
      "the total negative evidence for most positive object: 0.0\n",
      "the probability distribution for most positive object: [ 0.04436912  0.95563088]\n"
     ]
    }
   ],
   "source": [
    "print('the total positive evidence for most positive object:',pos_evid[231])\n",
    "print('the total negative evidence for most positive object:',neg_evid[231])\n",
    "print('the probability distribution for most positive object:',proba[231])"
   ]
  },
  {
   "cell_type": "code",
   "execution_count": 71,
   "metadata": {
    "collapsed": false
   },
   "outputs": [
    {
     "name": "stdout",
     "output_type": "stream",
     "text": [
      "the total positive evidence for most negative object: 0.616673733698\n",
      "the total negative evidence for most negative object: -6.43106149058\n",
      "the probability distribution for most negative object: [ 0.99158177  0.00841823]\n"
     ]
    }
   ],
   "source": [
    "print('the total positive evidence for most negative object:',pos_evid[360])\n",
    "print('the total negative evidence for most negative object:',neg_evid[360])\n",
    "print('the probability distribution for most negative object:',proba[360])"
   ]
  },
  {
   "cell_type": "code",
   "execution_count": 72,
   "metadata": {
    "collapsed": true
   },
   "outputs": [],
   "source": [
    "def obj_dic(obj):\n",
    "    dict = {}\n",
    "    for i in range(len(scaled_test.columns)):\n",
    "        dict[scaled_test.columns[i]] = obj[i]\n",
    "    return sorted(dict.items(), key=operator.itemgetter(1))"
   ]
  },
  {
   "cell_type": "markdown",
   "metadata": {},
   "source": [
    "For most positive object:\n",
    "d) top 3 feature values that contribute most to the positive evidence, e) top 3 feature values that contribute the most to the negative evidence."
   ]
  },
  {
   "cell_type": "code",
   "execution_count": 73,
   "metadata": {
    "collapsed": false
   },
   "outputs": [
    {
     "name": "stdout",
     "output_type": "stream",
     "text": [
      "top 3 feature values that contribute most to the positive evidence: [('Pclass_1', 1.4676810302516821), ('Age', 0.36062257545060616), ('SibSp', 0.17470551145652324)]\n"
     ]
    }
   ],
   "source": [
    "print('top 3 feature values that contribute most to the positive evidence:',\n",
    "      sorted(obj_dic(evid_mtr[231]), key = lambda x:x[1], reverse = True)[:3])"
   ]
  },
  {
   "cell_type": "code",
   "execution_count": 74,
   "metadata": {
    "collapsed": false
   },
   "outputs": [
    {
     "name": "stdout",
     "output_type": "stream",
     "text": [
      "top 3 feature values that contribute most to the negative evidence: [('Sex', -0.0), ('Pclass_3', -0.0), ('Pclass_2', 0.0)]\n"
     ]
    }
   ],
   "source": [
    "print('top 3 feature values that contribute most to the negative evidence:',obj_dic(evid_mtr[231])[:3])"
   ]
  },
  {
   "cell_type": "markdown",
   "metadata": {},
   "source": [
    "For most negative object: d) top 3 feature values that contribute most to the positive evidence, e) top 3 feature values that contribute the most to the negative evidence."
   ]
  },
  {
   "cell_type": "code",
   "execution_count": 75,
   "metadata": {
    "collapsed": false
   },
   "outputs": [
    {
     "name": "stdout",
     "output_type": "stream",
     "text": [
      "top 3 feature values that contribute most to the positive evidence: [('Age', 0.61667373369757073), ('Pclass_1', 0.0), ('Pclass_2', 0.0)]\n"
     ]
    }
   ],
   "source": [
    "print('top 3 feature values that contribute most to the positive evidence:',\n",
    "      sorted(obj_dic(evid_mtr[360]), key = lambda x:x[1], reverse = True)[:3])"
   ]
  },
  {
   "cell_type": "code",
   "execution_count": 76,
   "metadata": {
    "collapsed": false
   },
   "outputs": [
    {
     "name": "stdout",
     "output_type": "stream",
     "text": [
      "top 3 feature values that contribute most to the negative evidence: [('SibSp', -2.9494401051777746), ('Sex', -2.6267890000122485), ('Pclass_3', -0.76741879296754512)]\n"
     ]
    }
   ],
   "source": [
    "print('top 3 feature values that contribute most to the negative evidence:',obj_dic(evid_mtr[360])[:3])"
   ]
  },
  {
   "cell_type": "markdown",
   "metadata": {},
   "source": [
    "3 For the object that has the largest positive evidence.\n",
    "\n",
    "print a) the total positive evidence,  b) the total negative evidence, c) probability distribution, \n"
   ]
  },
  {
   "cell_type": "code",
   "execution_count": 77,
   "metadata": {
    "collapsed": false
   },
   "outputs": [],
   "source": [
    "pos_idx, pos_obj = max(enumerate(pos_evid), key=operator.itemgetter(1))\n",
    "neg_idx, neg_obj= min(enumerate(neg_evid), key=operator.itemgetter(1))"
   ]
  },
  {
   "cell_type": "code",
   "execution_count": 78,
   "metadata": {
    "collapsed": false
   },
   "outputs": [
    {
     "name": "stdout",
     "output_type": "stream",
     "text": [
      "The object that has the largest positive evidence and its total positive evidence: 196 2.59389640542\n"
     ]
    }
   ],
   "source": [
    "print('The object that has the largest positive evidence and its total positive evidence:',pos_idx, pos_obj) "
   ]
  },
  {
   "cell_type": "code",
   "execution_count": 79,
   "metadata": {
    "collapsed": false
   },
   "outputs": [
    {
     "name": "stdout",
     "output_type": "stream",
     "text": [
      "the total positive evidence for the object that has the largest positive evidence: 2.59389640542\n",
      "the total negative evidence for the object that has the largest positive evidence: -2.71420259243\n",
      "the probability distribution for the object that has the largest positive evidence: [ 0.28390367  0.71609633]\n"
     ]
    }
   ],
   "source": [
    "print('the total positive evidence for the object that has the largest positive evidence:',pos_evid[196])\n",
    "print('the total negative evidence for the object that has the largest positive evidence:',neg_evid[196])\n",
    "print('the probability distribution for the object that has the largest positive evidence:',proba[196])"
   ]
  },
  {
   "cell_type": "markdown",
   "metadata": {},
   "source": [
    "For object has the largest positive evidence: d) top 3 feature values that contribute most to the positive evidence, e) top 3 feature values that contribute the most to the negative evidence."
   ]
  },
  {
   "cell_type": "code",
   "execution_count": 80,
   "metadata": {
    "collapsed": false
   },
   "outputs": [
    {
     "name": "stdout",
     "output_type": "stream",
     "text": [
      "top 3 feature values that contribute most to the positive evidence: [('Pclass_1', 1.4676810302516821), ('Age', 0.95150986371283208), ('SibSp', 0.17470551145652324)]\n",
      "top 3 feature values that contribute most to the negative evidence: [('Sex', -2.6267890000122485), ('Parch', -0.087413592418601249), ('Pclass_3', -0.0)]\n"
     ]
    }
   ],
   "source": [
    "print('top 3 feature values that contribute most to the positive evidence:',\n",
    "      sorted(obj_dic(evid_mtr[196]), key = lambda x:x[1], reverse = True)[:3])\n",
    "print('top 3 feature values that contribute most to the negative evidence:',obj_dic(evid_mtr[196])[:3])"
   ]
  },
  {
   "cell_type": "markdown",
   "metadata": {},
   "source": [
    "4 \n",
    "For object that has the largest (in magnitude) negative evidence.\n",
    "\n",
    "print a) the total positive evidence,  b) the total negative evidence, c) probability distribution, \n"
   ]
  },
  {
   "cell_type": "code",
   "execution_count": 81,
   "metadata": {
    "collapsed": false
   },
   "outputs": [
    {
     "name": "stdout",
     "output_type": "stream",
     "text": [
      "The object that has the largest (in magnitude) negative evidence and its total negative evidence: 360 -6.43106149058\n"
     ]
    }
   ],
   "source": [
    "print('The object that has the largest (in magnitude) negative evidence and its total negative evidence:',neg_idx, neg_obj)"
   ]
  },
  {
   "cell_type": "code",
   "execution_count": 82,
   "metadata": {
    "collapsed": false
   },
   "outputs": [
    {
     "name": "stdout",
     "output_type": "stream",
     "text": [
      "the total positive evidence for the object that has the largest negative evidence: 0.616673733698\n",
      "the total negative evidence for the object that has the largest negative evidence: -6.43106149058\n",
      "the probability distribution for the object that has the largest negative evidence: [ 0.99158177  0.00841823]\n"
     ]
    }
   ],
   "source": [
    "print('the total positive evidence for the object that has the largest negative evidence:',pos_evid[360])\n",
    "print('the total negative evidence for the object that has the largest negative evidence:',neg_evid[360])\n",
    "print('the probability distribution for the object that has the largest negative evidence:',proba[360])"
   ]
  },
  {
   "cell_type": "markdown",
   "metadata": {},
   "source": [
    "For object has the largest negative evidence: d) top 3 feature values that contribute most to the positive evidence, e) top 3 feature values that contribute the most to the negative evidence."
   ]
  },
  {
   "cell_type": "code",
   "execution_count": 83,
   "metadata": {
    "collapsed": false
   },
   "outputs": [
    {
     "name": "stdout",
     "output_type": "stream",
     "text": [
      "top 3 feature values that contribute most to the positive evidence: [('Age', 0.61667373369757073), ('Pclass_1', 0.0), ('Pclass_2', 0.0)]\n",
      "top 3 feature values that contribute most to the negative evidence: [('SibSp', -2.9494401051777746), ('Sex', -2.6267890000122485), ('Pclass_3', -0.76741879296754512)]\n"
     ]
    }
   ],
   "source": [
    "print('top 3 feature values that contribute most to the positive evidence:',\n",
    "      sorted(obj_dic(evid_mtr[360]), key = lambda x:x[1], reverse = True)[:3])\n",
    "print('top 3 feature values that contribute most to the negative evidence:',obj_dic(evid_mtr[360])[:3])"
   ]
  },
  {
   "cell_type": "markdown",
   "metadata": {},
   "source": [
    "Check the total evidence of objects:"
   ]
  },
  {
   "cell_type": "code",
   "execution_count": 84,
   "metadata": {
    "collapsed": true
   },
   "outputs": [],
   "source": [
    "total_evid = pos_evid[:]\n",
    "for i in range(len(neg_evid)):\n",
    "    total_evid[i] += neg_evid[i]\n",
    "    \n",
    "totalMax_idx, totalMax_obj = max(enumerate(total_evid), key=operator.itemgetter(1))\n",
    "totalMin_idx, totalMin_obj = min(enumerate(total_evid), key=operator.itemgetter(1))"
   ]
  },
  {
   "cell_type": "code",
   "execution_count": 85,
   "metadata": {
    "collapsed": false
   },
   "outputs": [
    {
     "name": "stdout",
     "output_type": "stream",
     "text": [
      "The obj with total max evidence 231 2.02434219626\n"
     ]
    }
   ],
   "source": [
    "print('The obj with total max evidence',totalMax_idx, totalMax_obj)"
   ]
  },
  {
   "cell_type": "code",
   "execution_count": 86,
   "metadata": {
    "collapsed": false
   },
   "outputs": [
    {
     "name": "stdout",
     "output_type": "stream",
     "text": [
      "The obj with total min evidence 360 -5.81438775688\n"
     ]
    }
   ],
   "source": [
    "print('The obj with total min evidence',totalMin_idx, totalMin_obj)"
   ]
  },
  {
   "cell_type": "markdown",
   "metadata": {},
   "source": [
    "This result is consistent with the result created by predict probability"
   ]
  },
  {
   "cell_type": "markdown",
   "metadata": {},
   "source": [
    "5, The most uncertain object:it has eaqul probabilities of 0 and 1.\n",
    "\n",
    "print a) the total positive evidence,  b) the total negative evidence, c) probability distribution, d) top 3 feature values that contribute most to the positive evidence, e) top 3 feature values that contribute the most to the negative evidence."
   ]
  },
  {
   "cell_type": "code",
   "execution_count": 87,
   "metadata": {
    "collapsed": false
   },
   "outputs": [
    {
     "name": "stdout",
     "output_type": "stream",
     "text": [
      "The most uncertain object: (33, 0.0036082240768029461)\n"
     ]
    }
   ],
   "source": [
    "diff_lst = []\n",
    "for i in range(len(proba)):\n",
    "    v = proba[i,0]-proba[i,1]\n",
    "    diff_lst.append((i,np.abs(v)))\n",
    "diff_lst.sort(key = lambda x:x[1])\n",
    "print('The most uncertain object:',diff_lst[0])"
   ]
  },
  {
   "cell_type": "code",
   "execution_count": 88,
   "metadata": {
    "collapsed": false
   },
   "outputs": [
    {
     "name": "stdout",
     "output_type": "stream",
     "text": [
      "the total positive evidence for the most uncertain object: 0.0179427063343\n",
      "the total negative evidence for the most uncertain object: -1.07064507601\n",
      "the probability distribution for the most uncertain object: [ 0.50180411  0.49819589]\n",
      "top 3 feature values that contribute most to the positive evidence: [('Age', 0.017942706334297627), ('Sex', -0.0), ('Pclass_1', 0.0)]\n",
      "top 3 feature values that contribute most to the negative evidence: [('Pclass_3', -0.76741879296754512), ('SibSp', -0.21581269062276398), ('Parch', -0.087413592418601249)]\n"
     ]
    }
   ],
   "source": [
    "print('the total positive evidence for the most uncertain object:',pos_evid[33])\n",
    "print('the total negative evidence for the most uncertain object:',neg_evid[33])\n",
    "print('the probability distribution for the most uncertain object:',proba[33])\n",
    "print('top 3 feature values that contribute most to the positive evidence:',\n",
    "      sorted(obj_dic(evid_mtr[33]), key = lambda x:x[1], reverse = True)[:3])\n",
    "print('top 3 feature values that contribute most to the negative evidence:',obj_dic(evid_mtr[33])[:3])"
   ]
  },
  {
   "cell_type": "code",
   "execution_count": null,
   "metadata": {
    "collapsed": true
   },
   "outputs": [],
   "source": []
  }
 ],
 "metadata": {
  "kernelspec": {
   "display_name": "Python [conda root]",
   "language": "python",
   "name": "conda-root-py"
  },
  "language_info": {
   "codemirror_mode": {
    "name": "ipython",
    "version": 3
   },
   "file_extension": ".py",
   "mimetype": "text/x-python",
   "name": "python",
   "nbconvert_exporter": "python",
   "pygments_lexer": "ipython3",
   "version": "3.5.2"
  }
 },
 "nbformat": 4,
 "nbformat_minor": 2
}
