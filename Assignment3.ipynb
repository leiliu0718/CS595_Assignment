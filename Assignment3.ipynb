{
 "cells": [
  {
   "cell_type": "markdown",
   "metadata": {},
   "source": [
    "            Medical Appointment No Shows Dataset(https://www.kaggle.com/joniarroba/noshowappointments)\n",
    "1, The 'Medical Appointment No Shows' dataset includes 110k medical appointments and its 15 variables (characteristics) of each, like age, gender,and if the patient has financial supports. The target is the last column which shows if the patient show-up or no-show the appointment.The task is to predict if someone would not show up for an appointment."
   ]
  },
  {
   "cell_type": "markdown",
   "metadata": {},
   "source": [
    "2, load the dataset"
   ]
  },
  {
   "cell_type": "code",
   "execution_count": 82,
   "metadata": {
    "collapsed": true
   },
   "outputs": [],
   "source": [
    "import pandas as pd\n",
    "import numpy as np\n",
    "import math\n",
    "from sklearn import tree as tree\n",
    "from sklearn.metrics import classification_report\n",
    "from sklearn.feature_selection import SelectFromModel\n",
    "from sklearn.model_selection import train_test_split\n",
    "from sklearn.metrics import accuracy_score, mean_squared_error"
   ]
  },
  {
   "cell_type": "code",
   "execution_count": 83,
   "metadata": {
    "collapsed": false
   },
   "outputs": [
    {
     "name": "stdout",
     "output_type": "stream",
     "text": [
      "(110527, 14)\n"
     ]
    },
    {
     "data": {
      "text/html": [
       "<div>\n",
       "<table border=\"1\" class=\"dataframe\">\n",
       "  <thead>\n",
       "    <tr style=\"text-align: right;\">\n",
       "      <th></th>\n",
       "      <th>PatientId</th>\n",
       "      <th>AppointmentID</th>\n",
       "      <th>Gender</th>\n",
       "      <th>ScheduledDay</th>\n",
       "      <th>AppointmentDay</th>\n",
       "      <th>Age</th>\n",
       "      <th>Neighbourhood</th>\n",
       "      <th>Scholarship</th>\n",
       "      <th>Hipertension</th>\n",
       "      <th>Diabetes</th>\n",
       "      <th>Alcoholism</th>\n",
       "      <th>Handcap</th>\n",
       "      <th>SMS_received</th>\n",
       "      <th>No-show</th>\n",
       "    </tr>\n",
       "  </thead>\n",
       "  <tbody>\n",
       "    <tr>\n",
       "      <th>0</th>\n",
       "      <td>2.987250e+13</td>\n",
       "      <td>5642903</td>\n",
       "      <td>F</td>\n",
       "      <td>2016-04-29T18:38:08Z</td>\n",
       "      <td>2016-04-29T00:00:00Z</td>\n",
       "      <td>62</td>\n",
       "      <td>JARDIM DA PENHA</td>\n",
       "      <td>0</td>\n",
       "      <td>1</td>\n",
       "      <td>0</td>\n",
       "      <td>0</td>\n",
       "      <td>0</td>\n",
       "      <td>0</td>\n",
       "      <td>No</td>\n",
       "    </tr>\n",
       "    <tr>\n",
       "      <th>1</th>\n",
       "      <td>5.589978e+14</td>\n",
       "      <td>5642503</td>\n",
       "      <td>M</td>\n",
       "      <td>2016-04-29T16:08:27Z</td>\n",
       "      <td>2016-04-29T00:00:00Z</td>\n",
       "      <td>56</td>\n",
       "      <td>JARDIM DA PENHA</td>\n",
       "      <td>0</td>\n",
       "      <td>0</td>\n",
       "      <td>0</td>\n",
       "      <td>0</td>\n",
       "      <td>0</td>\n",
       "      <td>0</td>\n",
       "      <td>No</td>\n",
       "    </tr>\n",
       "    <tr>\n",
       "      <th>2</th>\n",
       "      <td>4.262962e+12</td>\n",
       "      <td>5642549</td>\n",
       "      <td>F</td>\n",
       "      <td>2016-04-29T16:19:04Z</td>\n",
       "      <td>2016-04-29T00:00:00Z</td>\n",
       "      <td>62</td>\n",
       "      <td>MATA DA PRAIA</td>\n",
       "      <td>0</td>\n",
       "      <td>0</td>\n",
       "      <td>0</td>\n",
       "      <td>0</td>\n",
       "      <td>0</td>\n",
       "      <td>0</td>\n",
       "      <td>No</td>\n",
       "    </tr>\n",
       "    <tr>\n",
       "      <th>3</th>\n",
       "      <td>8.679512e+11</td>\n",
       "      <td>5642828</td>\n",
       "      <td>F</td>\n",
       "      <td>2016-04-29T17:29:31Z</td>\n",
       "      <td>2016-04-29T00:00:00Z</td>\n",
       "      <td>8</td>\n",
       "      <td>PONTAL DE CAMBURI</td>\n",
       "      <td>0</td>\n",
       "      <td>0</td>\n",
       "      <td>0</td>\n",
       "      <td>0</td>\n",
       "      <td>0</td>\n",
       "      <td>0</td>\n",
       "      <td>No</td>\n",
       "    </tr>\n",
       "    <tr>\n",
       "      <th>4</th>\n",
       "      <td>8.841186e+12</td>\n",
       "      <td>5642494</td>\n",
       "      <td>F</td>\n",
       "      <td>2016-04-29T16:07:23Z</td>\n",
       "      <td>2016-04-29T00:00:00Z</td>\n",
       "      <td>56</td>\n",
       "      <td>JARDIM DA PENHA</td>\n",
       "      <td>0</td>\n",
       "      <td>1</td>\n",
       "      <td>1</td>\n",
       "      <td>0</td>\n",
       "      <td>0</td>\n",
       "      <td>0</td>\n",
       "      <td>No</td>\n",
       "    </tr>\n",
       "  </tbody>\n",
       "</table>\n",
       "</div>"
      ],
      "text/plain": [
       "      PatientId  AppointmentID Gender          ScheduledDay  \\\n",
       "0  2.987250e+13        5642903      F  2016-04-29T18:38:08Z   \n",
       "1  5.589978e+14        5642503      M  2016-04-29T16:08:27Z   \n",
       "2  4.262962e+12        5642549      F  2016-04-29T16:19:04Z   \n",
       "3  8.679512e+11        5642828      F  2016-04-29T17:29:31Z   \n",
       "4  8.841186e+12        5642494      F  2016-04-29T16:07:23Z   \n",
       "\n",
       "         AppointmentDay  Age      Neighbourhood  Scholarship  Hipertension  \\\n",
       "0  2016-04-29T00:00:00Z   62    JARDIM DA PENHA            0             1   \n",
       "1  2016-04-29T00:00:00Z   56    JARDIM DA PENHA            0             0   \n",
       "2  2016-04-29T00:00:00Z   62      MATA DA PRAIA            0             0   \n",
       "3  2016-04-29T00:00:00Z    8  PONTAL DE CAMBURI            0             0   \n",
       "4  2016-04-29T00:00:00Z   56    JARDIM DA PENHA            0             1   \n",
       "\n",
       "   Diabetes  Alcoholism  Handcap  SMS_received No-show  \n",
       "0         0           0        0             0      No  \n",
       "1         0           0        0             0      No  \n",
       "2         0           0        0             0      No  \n",
       "3         0           0        0             0      No  \n",
       "4         1           0        0             0      No  "
      ]
     },
     "execution_count": 83,
     "metadata": {},
     "output_type": "execute_result"
    }
   ],
   "source": [
    "df = pd.read_csv('KaggleV2-May-2016.csv')\n",
    "print(df.shape)\n",
    "df.head()"
   ]
  },
  {
   "cell_type": "markdown",
   "metadata": {},
   "source": [
    "The dataset has 110527 instances and 14 features, some features are helpless for us to make predictions, like AppointmentID, Appointment time, those features will be dropped during the learning process."
   ]
  },
  {
   "cell_type": "markdown",
   "metadata": {
    "collapsed": false
   },
   "source": [
    "For the 'Gender' attribute, change the 'F' into 1, 'M' into 0; for the label, change 'Yes' into 1, 'No' into 0."
   ]
  },
  {
   "cell_type": "code",
   "execution_count": 84,
   "metadata": {
    "collapsed": false
   },
   "outputs": [],
   "source": [
    "df = df.replace(['F','M','Yes','No'],[1,0,1,0])"
   ]
  },
  {
   "cell_type": "code",
   "execution_count": 85,
   "metadata": {
    "collapsed": false
   },
   "outputs": [
    {
     "data": {
      "text/html": [
       "<div>\n",
       "<table border=\"1\" class=\"dataframe\">\n",
       "  <thead>\n",
       "    <tr style=\"text-align: right;\">\n",
       "      <th></th>\n",
       "      <th>Gender</th>\n",
       "      <th>Age</th>\n",
       "      <th>Scholarship</th>\n",
       "      <th>Hipertension</th>\n",
       "      <th>Diabetes</th>\n",
       "      <th>Alcoholism</th>\n",
       "      <th>Handcap</th>\n",
       "      <th>SMS_received</th>\n",
       "    </tr>\n",
       "  </thead>\n",
       "  <tbody>\n",
       "    <tr>\n",
       "      <th>0</th>\n",
       "      <td>1</td>\n",
       "      <td>62</td>\n",
       "      <td>0</td>\n",
       "      <td>1</td>\n",
       "      <td>0</td>\n",
       "      <td>0</td>\n",
       "      <td>0</td>\n",
       "      <td>0</td>\n",
       "    </tr>\n",
       "    <tr>\n",
       "      <th>1</th>\n",
       "      <td>0</td>\n",
       "      <td>56</td>\n",
       "      <td>0</td>\n",
       "      <td>0</td>\n",
       "      <td>0</td>\n",
       "      <td>0</td>\n",
       "      <td>0</td>\n",
       "      <td>0</td>\n",
       "    </tr>\n",
       "    <tr>\n",
       "      <th>2</th>\n",
       "      <td>1</td>\n",
       "      <td>62</td>\n",
       "      <td>0</td>\n",
       "      <td>0</td>\n",
       "      <td>0</td>\n",
       "      <td>0</td>\n",
       "      <td>0</td>\n",
       "      <td>0</td>\n",
       "    </tr>\n",
       "    <tr>\n",
       "      <th>3</th>\n",
       "      <td>1</td>\n",
       "      <td>8</td>\n",
       "      <td>0</td>\n",
       "      <td>0</td>\n",
       "      <td>0</td>\n",
       "      <td>0</td>\n",
       "      <td>0</td>\n",
       "      <td>0</td>\n",
       "    </tr>\n",
       "    <tr>\n",
       "      <th>4</th>\n",
       "      <td>1</td>\n",
       "      <td>56</td>\n",
       "      <td>0</td>\n",
       "      <td>1</td>\n",
       "      <td>1</td>\n",
       "      <td>0</td>\n",
       "      <td>0</td>\n",
       "      <td>0</td>\n",
       "    </tr>\n",
       "  </tbody>\n",
       "</table>\n",
       "</div>"
      ],
      "text/plain": [
       "   Gender  Age  Scholarship  Hipertension  Diabetes  Alcoholism  Handcap  \\\n",
       "0       1   62            0             1         0           0        0   \n",
       "1       0   56            0             0         0           0        0   \n",
       "2       1   62            0             0         0           0        0   \n",
       "3       1    8            0             0         0           0        0   \n",
       "4       1   56            0             1         1           0        0   \n",
       "\n",
       "   SMS_received  \n",
       "0             0  \n",
       "1             0  \n",
       "2             0  \n",
       "3             0  \n",
       "4             0  "
      ]
     },
     "execution_count": 85,
     "metadata": {},
     "output_type": "execute_result"
    }
   ],
   "source": [
    "y = df['No-show']\n",
    "df_new = df.drop(['PatientId','AppointmentID','ScheduledDay','AppointmentDay','Neighbourhood','No-show'],axis=1)\n",
    "df_new.head()"
   ]
  },
  {
   "cell_type": "markdown",
   "metadata": {
    "collapsed": true
   },
   "source": [
    "Because the training and test sets have not been given, we need to split those two sets first."
   ]
  },
  {
   "cell_type": "code",
   "execution_count": 86,
   "metadata": {
    "collapsed": false
   },
   "outputs": [
    {
     "name": "stdout",
     "output_type": "stream",
     "text": [
      "(73721, 8) (73721,) (36806, 8) (36806,)\n"
     ]
    }
   ],
   "source": [
    "X_train,X_test,y_train,y_test=train_test_split(df_new,y,test_size=0.333,random_state=123)\n",
    "print(X_train.shape,y_train.shape,X_test.shape,y_test.shape)"
   ]
  },
  {
   "cell_type": "markdown",
   "metadata": {},
   "source": [
    "3, Train a decision tree of at most depth = 1, visualize it, test it on train, and test it on test. For the criterion, I use entropy."
   ]
  },
  {
   "cell_type": "code",
   "execution_count": 87,
   "metadata": {
    "collapsed": false
   },
   "outputs": [],
   "source": [
    "dt_model_1 = tree.DecisionTreeClassifier(criterion='entropy',max_depth=1,random_state=123)"
   ]
  },
  {
   "cell_type": "code",
   "execution_count": 88,
   "metadata": {
    "collapsed": false
   },
   "outputs": [],
   "source": [
    "dt_model_1 = dt_model_1.fit(X_train,y_train)"
   ]
  },
  {
   "cell_type": "code",
   "execution_count": 89,
   "metadata": {
    "collapsed": false
   },
   "outputs": [],
   "source": [
    "feature_list=X_train.columns\n",
    "with open('tree1.dot','w+') as f:\n",
    "    f=tree.export_graphviz(dt_model_1, feature_names = feature_list, out_file=f)"
   ]
  },
  {
   "cell_type": "markdown",
   "metadata": {
    "collapsed": false
   },
   "source": [
    "The printed tree with 1 depth is in the 'DT with 1 depth.png'."
   ]
  },
  {
   "cell_type": "markdown",
   "metadata": {
    "collapsed": true
   },
   "source": [
    "Test the tree on the train."
   ]
  },
  {
   "cell_type": "code",
   "execution_count": 90,
   "metadata": {
    "collapsed": false
   },
   "outputs": [
    {
     "name": "stdout",
     "output_type": "stream",
     "text": [
      "Accuracy score on the training set:  0.799175268919\n"
     ]
    }
   ],
   "source": [
    "y_1_train= dt_model_1.predict(X_train)\n",
    "print('Accuracy score on the training set: ', accuracy_score(y_train, y_1_train))"
   ]
  },
  {
   "cell_type": "markdown",
   "metadata": {},
   "source": [
    "Test the tree on the test."
   ]
  },
  {
   "cell_type": "code",
   "execution_count": 91,
   "metadata": {
    "collapsed": false
   },
   "outputs": [
    {
     "name": "stdout",
     "output_type": "stream",
     "text": [
      "Accuracy score on the test set:  0.795848502961\n"
     ]
    }
   ],
   "source": [
    "y_1_test = dt_model_1.predict(X_test)\n",
    "print('Accuracy score on the test set: ', accuracy_score(y_test, y_1_test))"
   ]
  },
  {
   "cell_type": "markdown",
   "metadata": {
    "collapsed": true
   },
   "source": [
    "4, Train a decision tree of at most depth = 2, visualize it, test it on train, and test it on test. For the criterion, I use entropy."
   ]
  },
  {
   "cell_type": "code",
   "execution_count": 92,
   "metadata": {
    "collapsed": true
   },
   "outputs": [],
   "source": [
    "dt_model_2 = tree.DecisionTreeClassifier(criterion='entropy',max_depth=2,random_state=123)\n",
    "dt_model_2 = dt_model_2.fit(X_train,y_train)\n",
    "with open('tree2.dot','w+') as f2:\n",
    "    f2=tree.export_graphviz(dt_model_2, feature_names = feature_list, out_file=f2)"
   ]
  },
  {
   "cell_type": "markdown",
   "metadata": {},
   "source": [
    "The printed tree with 2 depth is in the 'DT with 2 depth.png'.\n",
    "Test the tree on the train. Then test the tree on the test."
   ]
  },
  {
   "cell_type": "code",
   "execution_count": 93,
   "metadata": {
    "collapsed": false
   },
   "outputs": [
    {
     "name": "stdout",
     "output_type": "stream",
     "text": [
      "Accuracy score on the training set:  0.799175268919\n",
      "Accuracy score on the test set:  0.795848502961\n"
     ]
    }
   ],
   "source": [
    "y_2_train= dt_model_2.predict(X_train)\n",
    "print('Accuracy score on the training set: ', accuracy_score(y_train, y_2_train))\n",
    "y_2_test = dt_model_2.predict(X_test)\n",
    "print('Accuracy score on the test set: ', accuracy_score(y_test, y_2_test))"
   ]
  },
  {
   "cell_type": "markdown",
   "metadata": {},
   "source": [
    "5, Train a decision tree of at most depth = 3, visualize it, test it on train, and test it on test. For the criterion, I use entropy entropy."
   ]
  },
  {
   "cell_type": "code",
   "execution_count": 94,
   "metadata": {
    "collapsed": true
   },
   "outputs": [],
   "source": [
    "dt_model_3 = tree.DecisionTreeClassifier(criterion='entropy',max_depth=3,random_state=123)\n",
    "dt_model_3 = dt_model_3.fit(X_train,y_train)\n",
    "with open('tree3.dot','w+') as f3:\n",
    "    f3=tree.export_graphviz(dt_model_3, feature_names = feature_list, out_file=f3)"
   ]
  },
  {
   "cell_type": "markdown",
   "metadata": {},
   "source": [
    "The printed tree with 3 depth is in the 'DT with 3 depth.png'. Test the tree on the train. Then test the tree on the test."
   ]
  },
  {
   "cell_type": "code",
   "execution_count": 95,
   "metadata": {
    "collapsed": false
   },
   "outputs": [
    {
     "name": "stdout",
     "output_type": "stream",
     "text": [
      "Accuracy score on the training set:  0.799175268919\n",
      "Accuracy score on the test set:  0.795848502961\n"
     ]
    }
   ],
   "source": [
    "y_3_train= dt_model_3.predict(X_train)\n",
    "print('Accuracy score on the training set: ', accuracy_score(y_train, y_3_train))\n",
    "y_3_test = dt_model_3.predict(X_test)\n",
    "print('Accuracy score on the test set: ', accuracy_score(y_test, y_3_test))"
   ]
  },
  {
   "cell_type": "markdown",
   "metadata": {},
   "source": [
    "6, Train a decision tree of at most depth = 4, test it on train, and test it on test. For the criterion, I use entropy entropy."
   ]
  },
  {
   "cell_type": "code",
   "execution_count": 96,
   "metadata": {
    "collapsed": false
   },
   "outputs": [
    {
     "name": "stdout",
     "output_type": "stream",
     "text": [
      "Accuracy score on the training set:  0.799175268919\n",
      "Accuracy score on the test set:  0.795848502961\n"
     ]
    }
   ],
   "source": [
    "dt_model_4 = tree.DecisionTreeClassifier(criterion='entropy',max_depth=4,random_state=123)\n",
    "dt_model_4 = dt_model_4.fit(X_train,y_train)\n",
    "y_4_train= dt_model_4.predict(X_train)\n",
    "print('Accuracy score on the training set: ', accuracy_score(y_train, y_4_train))\n",
    "y_4_test = dt_model_4.predict(X_test)\n",
    "print('Accuracy score on the test set: ', accuracy_score(y_test, y_4_test))"
   ]
  },
  {
   "cell_type": "markdown",
   "metadata": {},
   "source": [
    "7, Train a decision tree of at most depth = 5,test it on train, and test it on test. For the criterion, I use entropy entropy."
   ]
  },
  {
   "cell_type": "code",
   "execution_count": 97,
   "metadata": {
    "collapsed": false
   },
   "outputs": [
    {
     "name": "stdout",
     "output_type": "stream",
     "text": [
      "Accuracy score on the training set:  0.799188833575\n",
      "Accuracy score on the test set:  0.795848502961\n"
     ]
    }
   ],
   "source": [
    "dt_model_5 = tree.DecisionTreeClassifier(criterion='entropy',max_depth=5,random_state=123)\n",
    "dt_model_5 = dt_model_5.fit(X_train,y_train)\n",
    "y_5_train= dt_model_5.predict(X_train)\n",
    "print('Accuracy score on the training set: ', accuracy_score(y_train, y_5_train))\n",
    "y_5_test = dt_model_5.predict(X_test)\n",
    "print('Accuracy score on the test set: ', accuracy_score(y_test, y_5_test))"
   ]
  },
  {
   "cell_type": "markdown",
   "metadata": {},
   "source": [
    "8, Train a decision tree of at most depth = 6,test it on train, and test it on test. For the criterion, I use entropy entropy."
   ]
  },
  {
   "cell_type": "code",
   "execution_count": 98,
   "metadata": {
    "collapsed": false
   },
   "outputs": [
    {
     "name": "stdout",
     "output_type": "stream",
     "text": [
      "Accuracy score on the training set:  0.799188833575\n",
      "Accuracy score on the test set:  0.795848502961\n"
     ]
    }
   ],
   "source": [
    "dt_model_6 = tree.DecisionTreeClassifier(criterion='entropy',max_depth=5,random_state=123)\n",
    "dt_model_6 = dt_model_6.fit(X_train,y_train)\n",
    "y_6_train= dt_model_6.predict(X_train)\n",
    "print('Accuracy score on the training set: ', accuracy_score(y_train, y_6_train))\n",
    "y_6_test = dt_model_6.predict(X_test)\n",
    "print('Accuracy score on the test set: ', accuracy_score(y_test, y_6_test))"
   ]
  },
  {
   "cell_type": "markdown",
   "metadata": {},
   "source": [
    "Analysis: \n",
    "The split condition of the tree with 1 depth is if the patient received SMS before the scheduled date. The logic is quite reasonable, patients had not been reminded before the scheduled date and they are likely to forget the appointment. The accuracy based on test set is 0.795848502961, this prediction result is pretty good even if the tree only has one depth. The second split condition is the range of age, the chosen attribute makes sense, senior people are more likely to have a poor memory, they had forgotten the appointment. But the result is disappointing, the age attribute does not boost the result. The third split attribute is still age, the performance has not been improved.\n",
    "Set the max_depth= 4,5,6, the prediction results has not been boosted at all, however, the result based on training set has been improved slightly, it increases from 0.799175268919 to 0.799188833575. The decison tree approach is not quite suitable for this dataset,the dataframe is too sparse. Except the 'Age' attribute, the most of the rest values of attributes are 0, the tree cannot pick up effective attributes to make splits.  \n"
   ]
  }
 ],
 "metadata": {
  "kernelspec": {
   "display_name": "Python [conda root]",
   "language": "python",
   "name": "conda-root-py"
  },
  "language_info": {
   "codemirror_mode": {
    "name": "ipython",
    "version": 3
   },
   "file_extension": ".py",
   "mimetype": "text/x-python",
   "name": "python",
   "nbconvert_exporter": "python",
   "pygments_lexer": "ipython3",
   "version": "3.5.2"
  }
 },
 "nbformat": 4,
 "nbformat_minor": 2
}
